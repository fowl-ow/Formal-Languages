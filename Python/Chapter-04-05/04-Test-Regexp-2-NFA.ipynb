{
 "cells": [
  {
   "cell_type": "code",
   "execution_count": 1,
   "metadata": {},
   "outputs": [
    {
     "data": {
      "text/html": [
       "<link href='http://fonts.googleapis.com/css?family=Alegreya+Sans:100,300,400,500,700,800,900,100italic,300italic,400italic,500italic,700italic,800italic,900italic' rel='stylesheet' type='text/css'>\n",
       "<link href='http://fonts.googleapis.com/css?family=Arvo:400,700,400italic' rel='stylesheet' type='text/css'>\n",
       "<link href='http://fonts.googleapis.com/css?family=PT+Mono' rel='stylesheet' type='text/css'>\n",
       "<link href='http://fonts.googleapis.com/css?family=Shadows+Into+Light' rel='stylesheet' type='text/css'>\n",
       "<link href='http://fonts.googleapis.com/css?family=Philosopher:400,700,400italic,700italic' rel='stylesheet' type='text/css'>\n",
       "<link href=\"http://fonts.googleapis.com/css?family=Sacramento\" rel=\"stylesheet\" type=\"text/css\">\n",
       "\n",
       "<style>\n",
       "\n",
       "@font-face {\n",
       "    font-family: \"Computer Modern\";\n",
       "    src: url('http://mirrors.ctan.org/fonts/cm-unicode/fonts/otf/cmunss.otf');\n",
       "}\n",
       "\n",
       ".container { width: 100% }\n",
       "\n",
       "/* Formatting for header cells */\n",
       ".text_cell_render h1 {\n",
       "    font-family: 'Philosopher', sans-serif;\n",
       "    font-weight: 400;\n",
       "    font-size: 2.2em;\n",
       "    line-height: 100%;\n",
       "    color: rgb(0, 80, 120);\n",
       "    margin-bottom: 0.1em;\n",
       "    margin-top: 0.1em;\n",
       "    display: block;\n",
       "}\t\n",
       ".text_cell_render h2 {\n",
       "    font-family: 'Philosopher', serif;\n",
       "    font-weight: 400;\n",
       "    font-size: 1.9em;\n",
       "    line-height: 100%;\n",
       "    color: rgb(200,100,0);\n",
       "    margin-bottom: 0.1em;\n",
       "    margin-top: 0.1em;\n",
       "    display: block;\n",
       "}\t\n",
       "\n",
       ".text_cell_render h3 {\n",
       "    font-family: 'Philosopher', serif;\n",
       "    margin-top:12px;\n",
       "    margin-bottom: 3px;\n",
       "    font-style: italic;\n",
       "    color: rgb(94,127,192);\n",
       "}\n",
       "\n",
       ".text_cell_render h4 {\n",
       "    font-family: 'Philosopher', serif;\n",
       "}\n",
       "\n",
       ".text_cell_render h5 {\n",
       "    font-family: 'Alegreya Sans', sans-serif;\n",
       "    font-weight: 300;\n",
       "    font-size: 16pt;\n",
       "    color: grey;\n",
       "    font-style: italic;\n",
       "    margin-bottom: .1em;\n",
       "    margin-top: 0.1em;\n",
       "    display: block;\n",
       "}\n",
       "\n",
       ".text_cell_render h6 {\n",
       "    font-family: 'PT Mono', sans-serif;\n",
       "    font-weight: 300;\n",
       "    font-size: 10pt;\n",
       "    color: grey;\n",
       "    margin-bottom: 1px;\n",
       "    margin-top: 1px;\n",
       "}\n",
       "\n",
       ".text_cell_render em {\n",
       "    font-family: 'Philosopher', sans-serif;\n",
       "    color:        blue;\n",
       "    background-color: rgb(255,220,180);\n",
       "    font-size:    110%;\n",
       "    margin-left:   2px;\n",
       "    margin-right:  2px;\n",
       "    font-weight:   100;\n",
       "}\n",
       "\n",
       ".text_cell_render b {\n",
       "    color:            rgb(255,195,195);\n",
       "    background-color: rgb(0,0,0);\n",
       "    font-size:    110%;\n",
       "    margin-left:   2px;\n",
       "    margin-right:  2px;\n",
       "    font-weight:   650;\n",
       "}\n",
       "\n",
       ".text_cell_render u {\n",
       "    color:            blue;\n",
       "    font-size:    110%;\n",
       "    margin-left:   2px;\n",
       "    margin-right:  2px;\n",
       "    font-weight:   650;\n",
       "}\n",
       "\n",
       ".text_cell_render tt {\n",
       "    font-size:    120%;\n",
       "    margin-left:   2px;\n",
       "    margin-right:  2px;\n",
       "    font-weight:   150;\n",
       "}\n",
       "\n",
       ".Codemirror {\n",
       "    font-family: \"PT Mono\";\n",
       "    font-size: 100%;\n",
       "}\n",
       "\n",
       "#fancy {\n",
       "    font-family:      Georgia;\n",
       "    position:         relative;\n",
       "    float:            left;\n",
       "    border:           2px solid red;\n",
       "    width:            600px;\n",
       "    padding-left:     20px;\n",
       "    padding-right:    20px;\n",
       "    padding-top:      10px;\n",
       "    font-family:      'Sacramento', cursive;\n",
       "    font-size:        26px;\n",
       "    background-color: #F4EBF3;\n",
       "    border-radius:    15px;\n",
       "}\n",
       "\n",
       "</Style>\n",
       "\n"
      ],
      "text/plain": [
       "<IPython.core.display.HTML object>"
      ]
     },
     "execution_count": 1,
     "metadata": {},
     "output_type": "execute_result"
    }
   ],
   "source": [
    "from IPython.display import HTML\n",
    "HTML(open('../style.css', 'r').read())"
   ]
  },
  {
   "cell_type": "markdown",
   "metadata": {},
   "source": [
    "This notebook contains a test for the function `toNFA` implemented in the notebook `03-Regexp-2-NFA.ipynb`.\n",
    "In order to write regular expressions conveniently, we need the parser implemented in `RegExp-Parser.ipynb`."
   ]
  },
  {
   "cell_type": "code",
   "execution_count": 2,
   "metadata": {},
   "outputs": [
    {
     "name": "stderr",
     "output_type": "stream",
     "text": [
      "Version 1.0.6\n"
     ]
    },
    {
     "name": "stdout",
     "output_type": "stream",
     "text": [
      "The nb_mypy extension is already loaded. To reload it, use:\n",
      "  %reload_ext nb_mypy\n"
     ]
    }
   ],
   "source": [
    "%run 03-Regexp-2-NFA.ipynb\n",
    "%run RegExp-Parser.ipynb"
   ]
  },
  {
   "cell_type": "markdown",
   "metadata": {},
   "source": [
    "The `nb_mypy` extension does not work with notebooks that are imported via the `%run`magic.  \n",
    "Therefore, we have to switch the extension off in this notebook."
   ]
  },
  {
   "cell_type": "code",
   "execution_count": 3,
   "metadata": {},
   "outputs": [],
   "source": [
    "%unload_ext nb_mypy"
   ]
  },
  {
   "cell_type": "markdown",
   "metadata": {},
   "source": [
    "If the regular expression `r` that is defined below has been written in the style of the lecture notes, it would read:\n",
    "$$(\\texttt{a}\\cdot\\texttt{b} + \\texttt{b}\\cdot\\texttt{a})^*$$"
   ]
  },
  {
   "cell_type": "code",
   "execution_count": 13,
   "metadata": {},
   "outputs": [
    {
     "data": {
      "text/plain": [
       "((('a', '*'), '⋅', 'b'), '⋅', ('a', '*'))"
      ]
     },
     "execution_count": 13,
     "metadata": {},
     "output_type": "execute_result"
    }
   ],
   "source": [
    "r = parse('a*ba*')\n",
    "r"
   ]
  },
  {
   "cell_type": "code",
   "execution_count": 14,
   "metadata": {},
   "outputs": [],
   "source": [
    "converter = RegExp2NFA({'a', 'b'}) "
   ]
  },
  {
   "cell_type": "markdown",
   "metadata": {},
   "source": [
    "We use `converter` to create an <span style=\"font-variant:small-caps;\">NFA</span>  that accepts the language \n",
    "described by the regular expression `r`."
   ]
  },
  {
   "cell_type": "code",
   "execution_count": 15,
   "metadata": {},
   "outputs": [
    {
     "data": {
      "text/plain": [
       "({1, 2, 3, 4, 5, 6, 7, 8, 9, 10},\n",
       " {'a', 'b'},\n",
       " {(1, 'a'): {2},\n",
       "  (3, '𝜀'): {1, 4},\n",
       "  (2, '𝜀'): {1, 4},\n",
       "  (5, 'b'): {6},\n",
       "  (4, '𝜀'): {5},\n",
       "  (7, 'a'): {8},\n",
       "  (9, '𝜀'): {7, 10},\n",
       "  (8, '𝜀'): {7, 10},\n",
       "  (6, '𝜀'): {9}},\n",
       " 3,\n",
       " {10})"
      ]
     },
     "execution_count": 15,
     "metadata": {},
     "output_type": "execute_result"
    }
   ],
   "source": [
    "nfa = converter.toNFA(r) \n",
    "nfa"
   ]
  },
  {
   "cell_type": "code",
   "execution_count": 16,
   "metadata": {},
   "outputs": [],
   "source": [
    "%run FSM-2-Dot.ipynb"
   ]
  },
  {
   "cell_type": "code",
   "execution_count": 17,
   "metadata": {},
   "outputs": [
    {
     "data": {
      "image/svg+xml": [
       "<?xml version=\"1.0\" encoding=\"UTF-8\" standalone=\"no\"?>\n",
       "<!DOCTYPE svg PUBLIC \"-//W3C//DTD SVG 1.1//EN\"\n",
       " \"http://www.w3.org/Graphics/SVG/1.1/DTD/svg11.dtd\">\n",
       "<!-- Generated by graphviz version 2.49.0 (0)\n",
       " -->\n",
       "<!-- Title: Non&#45;Deterministic FSM Pages: 1 -->\n",
       "<svg width=\"981pt\" height=\"87pt\"\n",
       " viewBox=\"0.00 0.00 981.00 87.00\" xmlns=\"http://www.w3.org/2000/svg\" xmlns:xlink=\"http://www.w3.org/1999/xlink\">\n",
       "<g id=\"graph0\" class=\"graph\" transform=\"scale(1 1) rotate(0) translate(4 83)\">\n",
       "<title>Non&#45;Deterministic FSM</title>\n",
       "<polygon fill=\"white\" stroke=\"transparent\" points=\"-4,4 -4,-83 977,-83 977,4 -4,4\"/>\n",
       "<!-- 0 -->\n",
       "<g id=\"node1\" class=\"node\">\n",
       "<title>0</title>\n",
       "<ellipse fill=\"blue\" stroke=\"blue\" cx=\"3.5\" cy=\"-22\" rx=\"3.5\" ry=\"3.5\"/>\n",
       "</g>\n",
       "<!-- 3 -->\n",
       "<g id=\"node2\" class=\"node\">\n",
       "<title>3</title>\n",
       "<ellipse fill=\"none\" stroke=\"black\" cx=\"71\" cy=\"-22\" rx=\"27\" ry=\"18\"/>\n",
       "<text text-anchor=\"middle\" x=\"71\" y=\"-18.3\" font-family=\"Times,serif\" font-size=\"14.00\">3</text>\n",
       "</g>\n",
       "<!-- 0&#45;&gt;3 -->\n",
       "<g id=\"edge1\" class=\"edge\">\n",
       "<title>0&#45;&gt;3</title>\n",
       "<path fill=\"none\" stroke=\"black\" d=\"M7.31,-22C12.15,-22 22.59,-22 33.58,-22\"/>\n",
       "<polygon fill=\"black\" stroke=\"black\" points=\"33.69,-25.5 43.69,-22 33.69,-18.5 33.69,-25.5\"/>\n",
       "</g>\n",
       "<!-- 1 -->\n",
       "<g id=\"node3\" class=\"node\">\n",
       "<title>1</title>\n",
       "<ellipse fill=\"none\" stroke=\"black\" cx=\"167\" cy=\"-61\" rx=\"27\" ry=\"18\"/>\n",
       "<text text-anchor=\"middle\" x=\"167\" y=\"-57.3\" font-family=\"Times,serif\" font-size=\"14.00\">1</text>\n",
       "</g>\n",
       "<!-- 3&#45;&gt;1 -->\n",
       "<g id=\"edge4\" class=\"edge\">\n",
       "<title>3&#45;&gt;1</title>\n",
       "<path fill=\"none\" stroke=\"black\" d=\"M94.28,-31.24C106.13,-36.16 120.92,-42.3 133.98,-47.72\"/>\n",
       "<polygon fill=\"black\" stroke=\"black\" points=\"132.98,-51.09 143.56,-51.69 135.66,-44.62 132.98,-51.09\"/>\n",
       "<text text-anchor=\"middle\" x=\"119\" y=\"-45.8\" font-family=\"Times,serif\" font-size=\"14.00\">𝜀</text>\n",
       "</g>\n",
       "<!-- 4 -->\n",
       "<g id=\"node5\" class=\"node\">\n",
       "<title>4</title>\n",
       "<ellipse fill=\"none\" stroke=\"black\" cx=\"360\" cy=\"-22\" rx=\"27\" ry=\"18\"/>\n",
       "<text text-anchor=\"middle\" x=\"360\" y=\"-18.3\" font-family=\"Times,serif\" font-size=\"14.00\">4</text>\n",
       "</g>\n",
       "<!-- 3&#45;&gt;4 -->\n",
       "<g id=\"edge5\" class=\"edge\">\n",
       "<title>3&#45;&gt;4</title>\n",
       "<path fill=\"none\" stroke=\"black\" d=\"M96.62,-15.83C125.74,-9.23 175.74,-0.08 219,-3 254.81,-5.42 295.41,-11.28 323.64,-15.86\"/>\n",
       "<polygon fill=\"black\" stroke=\"black\" points=\"323.38,-19.36 333.81,-17.54 324.52,-12.45 323.38,-19.36\"/>\n",
       "<text text-anchor=\"middle\" x=\"215.5\" y=\"-6.8\" font-family=\"Times,serif\" font-size=\"14.00\">𝜀</text>\n",
       "</g>\n",
       "<!-- 2 -->\n",
       "<g id=\"node4\" class=\"node\">\n",
       "<title>2</title>\n",
       "<ellipse fill=\"none\" stroke=\"black\" cx=\"264\" cy=\"-61\" rx=\"27\" ry=\"18\"/>\n",
       "<text text-anchor=\"middle\" x=\"264\" y=\"-57.3\" font-family=\"Times,serif\" font-size=\"14.00\">2</text>\n",
       "</g>\n",
       "<!-- 1&#45;&gt;2 -->\n",
       "<g id=\"edge12\" class=\"edge\">\n",
       "<title>1&#45;&gt;2</title>\n",
       "<path fill=\"none\" stroke=\"black\" d=\"M194.21,-61C204.28,-61 215.96,-61 226.81,-61\"/>\n",
       "<polygon fill=\"black\" stroke=\"black\" points=\"226.87,-64.5 236.87,-61 226.87,-57.5 226.87,-64.5\"/>\n",
       "<text text-anchor=\"middle\" x=\"215.5\" y=\"-64.8\" font-family=\"Times,serif\" font-size=\"14.00\">a</text>\n",
       "</g>\n",
       "<!-- 2&#45;&gt;1 -->\n",
       "<g id=\"edge2\" class=\"edge\">\n",
       "<title>2&#45;&gt;1</title>\n",
       "<path fill=\"none\" stroke=\"black\" d=\"M249.62,-45.4C241.66,-37.34 230.82,-28.31 219,-24 206.84,-19.57 195.02,-27.14 185.83,-36.57\"/>\n",
       "<polygon fill=\"black\" stroke=\"black\" points=\"182.99,-34.49 179.06,-44.33 188.27,-39.09 182.99,-34.49\"/>\n",
       "<text text-anchor=\"middle\" x=\"215.5\" y=\"-27.8\" font-family=\"Times,serif\" font-size=\"14.00\">𝜀</text>\n",
       "</g>\n",
       "<!-- 2&#45;&gt;4 -->\n",
       "<g id=\"edge3\" class=\"edge\">\n",
       "<title>2&#45;&gt;4</title>\n",
       "<path fill=\"none\" stroke=\"black\" d=\"M287.28,-51.76C299.13,-46.84 313.92,-40.7 326.98,-35.28\"/>\n",
       "<polygon fill=\"black\" stroke=\"black\" points=\"328.66,-38.38 336.56,-31.31 325.98,-31.91 328.66,-38.38\"/>\n",
       "<text text-anchor=\"middle\" x=\"312\" y=\"-45.8\" font-family=\"Times,serif\" font-size=\"14.00\">𝜀</text>\n",
       "</g>\n",
       "<!-- 5 -->\n",
       "<g id=\"node6\" class=\"node\">\n",
       "<title>5</title>\n",
       "<ellipse fill=\"none\" stroke=\"black\" cx=\"456\" cy=\"-22\" rx=\"27\" ry=\"18\"/>\n",
       "<text text-anchor=\"middle\" x=\"456\" y=\"-18.3\" font-family=\"Times,serif\" font-size=\"14.00\">5</text>\n",
       "</g>\n",
       "<!-- 4&#45;&gt;5 -->\n",
       "<g id=\"edge6\" class=\"edge\">\n",
       "<title>4&#45;&gt;5</title>\n",
       "<path fill=\"none\" stroke=\"black\" d=\"M387.18,-22C396.96,-22 408.25,-22 418.77,-22\"/>\n",
       "<polygon fill=\"black\" stroke=\"black\" points=\"418.96,-25.5 428.96,-22 418.96,-18.5 418.96,-25.5\"/>\n",
       "<text text-anchor=\"middle\" x=\"408\" y=\"-25.8\" font-family=\"Times,serif\" font-size=\"14.00\">𝜀</text>\n",
       "</g>\n",
       "<!-- 6 -->\n",
       "<g id=\"node7\" class=\"node\">\n",
       "<title>6</title>\n",
       "<ellipse fill=\"none\" stroke=\"black\" cx=\"553\" cy=\"-22\" rx=\"27\" ry=\"18\"/>\n",
       "<text text-anchor=\"middle\" x=\"553\" y=\"-18.3\" font-family=\"Times,serif\" font-size=\"14.00\">6</text>\n",
       "</g>\n",
       "<!-- 5&#45;&gt;6 -->\n",
       "<g id=\"edge13\" class=\"edge\">\n",
       "<title>5&#45;&gt;6</title>\n",
       "<path fill=\"none\" stroke=\"black\" d=\"M483.21,-22C493.28,-22 504.96,-22 515.81,-22\"/>\n",
       "<polygon fill=\"black\" stroke=\"black\" points=\"515.87,-25.5 525.87,-22 515.87,-18.5 515.87,-25.5\"/>\n",
       "<text text-anchor=\"middle\" x=\"504.5\" y=\"-25.8\" font-family=\"Times,serif\" font-size=\"14.00\">b</text>\n",
       "</g>\n",
       "<!-- 9 -->\n",
       "<g id=\"node10\" class=\"node\">\n",
       "<title>9</title>\n",
       "<ellipse fill=\"none\" stroke=\"black\" cx=\"649\" cy=\"-22\" rx=\"27\" ry=\"18\"/>\n",
       "<text text-anchor=\"middle\" x=\"649\" y=\"-18.3\" font-family=\"Times,serif\" font-size=\"14.00\">9</text>\n",
       "</g>\n",
       "<!-- 6&#45;&gt;9 -->\n",
       "<g id=\"edge7\" class=\"edge\">\n",
       "<title>6&#45;&gt;9</title>\n",
       "<path fill=\"none\" stroke=\"black\" d=\"M580.18,-22C589.96,-22 601.25,-22 611.77,-22\"/>\n",
       "<polygon fill=\"black\" stroke=\"black\" points=\"611.96,-25.5 621.96,-22 611.96,-18.5 611.96,-25.5\"/>\n",
       "<text text-anchor=\"middle\" x=\"601\" y=\"-25.8\" font-family=\"Times,serif\" font-size=\"14.00\">𝜀</text>\n",
       "</g>\n",
       "<!-- 7 -->\n",
       "<g id=\"node8\" class=\"node\">\n",
       "<title>7</title>\n",
       "<ellipse fill=\"none\" stroke=\"black\" cx=\"745\" cy=\"-61\" rx=\"27\" ry=\"18\"/>\n",
       "<text text-anchor=\"middle\" x=\"745\" y=\"-57.3\" font-family=\"Times,serif\" font-size=\"14.00\">7</text>\n",
       "</g>\n",
       "<!-- 8 -->\n",
       "<g id=\"node9\" class=\"node\">\n",
       "<title>8</title>\n",
       "<ellipse fill=\"none\" stroke=\"black\" cx=\"842\" cy=\"-61\" rx=\"27\" ry=\"18\"/>\n",
       "<text text-anchor=\"middle\" x=\"842\" y=\"-57.3\" font-family=\"Times,serif\" font-size=\"14.00\">8</text>\n",
       "</g>\n",
       "<!-- 7&#45;&gt;8 -->\n",
       "<g id=\"edge14\" class=\"edge\">\n",
       "<title>7&#45;&gt;8</title>\n",
       "<path fill=\"none\" stroke=\"black\" d=\"M772.21,-61C782.28,-61 793.96,-61 804.81,-61\"/>\n",
       "<polygon fill=\"black\" stroke=\"black\" points=\"804.87,-64.5 814.87,-61 804.87,-57.5 804.87,-64.5\"/>\n",
       "<text text-anchor=\"middle\" x=\"793.5\" y=\"-64.8\" font-family=\"Times,serif\" font-size=\"14.00\">a</text>\n",
       "</g>\n",
       "<!-- 8&#45;&gt;7 -->\n",
       "<g id=\"edge9\" class=\"edge\">\n",
       "<title>8&#45;&gt;7</title>\n",
       "<path fill=\"none\" stroke=\"black\" d=\"M827.62,-45.4C819.66,-37.34 808.82,-28.31 797,-24 784.84,-19.57 773.02,-27.14 763.83,-36.57\"/>\n",
       "<polygon fill=\"black\" stroke=\"black\" points=\"760.99,-34.49 757.06,-44.33 766.27,-39.09 760.99,-34.49\"/>\n",
       "<text text-anchor=\"middle\" x=\"793.5\" y=\"-27.8\" font-family=\"Times,serif\" font-size=\"14.00\">𝜀</text>\n",
       "</g>\n",
       "<!-- 10 -->\n",
       "<g id=\"node11\" class=\"node\">\n",
       "<title>10</title>\n",
       "<ellipse fill=\"none\" stroke=\"black\" cx=\"942\" cy=\"-22\" rx=\"27\" ry=\"18\"/>\n",
       "<ellipse fill=\"none\" stroke=\"black\" cx=\"942\" cy=\"-22\" rx=\"31\" ry=\"22\"/>\n",
       "<text text-anchor=\"middle\" x=\"942\" y=\"-18.3\" font-family=\"Times,serif\" font-size=\"14.00\">10</text>\n",
       "</g>\n",
       "<!-- 8&#45;&gt;10 -->\n",
       "<g id=\"edge8\" class=\"edge\">\n",
       "<title>8&#45;&gt;10</title>\n",
       "<path fill=\"none\" stroke=\"black\" d=\"M865.73,-51.95C877.47,-47.28 892.06,-41.47 905.27,-36.22\"/>\n",
       "<polygon fill=\"black\" stroke=\"black\" points=\"906.58,-39.46 914.58,-32.52 903.99,-32.96 906.58,-39.46\"/>\n",
       "<text text-anchor=\"middle\" x=\"890\" y=\"-45.8\" font-family=\"Times,serif\" font-size=\"14.00\">𝜀</text>\n",
       "</g>\n",
       "<!-- 9&#45;&gt;7 -->\n",
       "<g id=\"edge11\" class=\"edge\">\n",
       "<title>9&#45;&gt;7</title>\n",
       "<path fill=\"none\" stroke=\"black\" d=\"M672.28,-31.24C684.13,-36.16 698.92,-42.3 711.98,-47.72\"/>\n",
       "<polygon fill=\"black\" stroke=\"black\" points=\"710.98,-51.09 721.56,-51.69 713.66,-44.62 710.98,-51.09\"/>\n",
       "<text text-anchor=\"middle\" x=\"697\" y=\"-45.8\" font-family=\"Times,serif\" font-size=\"14.00\">𝜀</text>\n",
       "</g>\n",
       "<!-- 9&#45;&gt;10 -->\n",
       "<g id=\"edge10\" class=\"edge\">\n",
       "<title>9&#45;&gt;10</title>\n",
       "<path fill=\"none\" stroke=\"black\" d=\"M675.19,-17.54C703.13,-12.83 749.62,-5.73 790,-3 828.49,-0.4 872.19,-6.95 902.64,-13.05\"/>\n",
       "<polygon fill=\"black\" stroke=\"black\" points=\"901.92,-16.48 912.43,-15.09 903.35,-9.62 901.92,-16.48\"/>\n",
       "<text text-anchor=\"middle\" x=\"793.5\" y=\"-6.8\" font-family=\"Times,serif\" font-size=\"14.00\">𝜀</text>\n",
       "</g>\n",
       "</g>\n",
       "</svg>\n"
      ],
      "text/plain": [
       "<graphviz.graphs.Digraph at 0x107387c50>"
      ]
     },
     "execution_count": 17,
     "metadata": {},
     "output_type": "execute_result"
    }
   ],
   "source": [
    "d = nfa2dot(nfa) \n",
    "d       "
   ]
  },
  {
   "cell_type": "markdown",
   "metadata": {},
   "source": [
    "After having constructed a non-deterministic <span style=\"font-variant:small-caps;\">Fsm</span> for the regular expression,\n",
    "we convert it into a deterministic <span style=\"font-variant:small-caps;\">Fsm</span>."
   ]
  },
  {
   "cell_type": "code",
   "execution_count": 18,
   "metadata": {},
   "outputs": [
    {
     "name": "stderr",
     "output_type": "stream",
     "text": [
      "Version 1.0.6\n"
     ]
    }
   ],
   "source": [
    "%run 01-NFA-2-DFA.ipynb"
   ]
  },
  {
   "cell_type": "code",
   "execution_count": 19,
   "metadata": {},
   "outputs": [],
   "source": [
    "%unload_ext nb_mypy"
   ]
  },
  {
   "cell_type": "code",
   "execution_count": 20,
   "metadata": {},
   "outputs": [
    {
     "data": {
      "text/plain": [
       "({frozenset(),\n",
       "  frozenset({1, 3, 4, 5}),\n",
       "  frozenset({6, 7, 9, 10}),\n",
       "  frozenset({7, 8, 10}),\n",
       "  frozenset({1, 2, 4, 5})},\n",
       " {'a', 'b'},\n",
       " {(frozenset({1, 3, 4, 5}), 'b'): frozenset({6, 7, 9, 10}),\n",
       "  (frozenset({1, 3, 4, 5}), 'a'): frozenset({1, 2, 4, 5}),\n",
       "  (frozenset({6, 7, 9, 10}), 'b'): frozenset(),\n",
       "  (frozenset({6, 7, 9, 10}), 'a'): frozenset({7, 8, 10}),\n",
       "  (frozenset({7, 8, 10}), 'b'): frozenset(),\n",
       "  (frozenset({7, 8, 10}), 'a'): frozenset({7, 8, 10}),\n",
       "  (frozenset(), 'b'): frozenset(),\n",
       "  (frozenset(), 'a'): frozenset(),\n",
       "  (frozenset({1, 2, 4, 5}), 'b'): frozenset({6, 7, 9, 10}),\n",
       "  (frozenset({1, 2, 4, 5}), 'a'): frozenset({1, 2, 4, 5})},\n",
       " frozenset({1, 3, 4, 5}),\n",
       " {frozenset({7, 8, 10}), frozenset({6, 7, 9, 10})})"
      ]
     },
     "execution_count": 20,
     "metadata": {},
     "output_type": "execute_result"
    }
   ],
   "source": [
    "dfa = nfa2dfa(nfa) \n",
    "dfa"
   ]
  },
  {
   "cell_type": "code",
   "execution_count": 21,
   "metadata": {},
   "outputs": [
    {
     "data": {
      "image/svg+xml": [
       "<?xml version=\"1.0\" encoding=\"UTF-8\" standalone=\"no\"?>\n",
       "<!DOCTYPE svg PUBLIC \"-//W3C//DTD SVG 1.1//EN\"\n",
       " \"http://www.w3.org/Graphics/SVG/1.1/DTD/svg11.dtd\">\n",
       "<!-- Generated by graphviz version 2.49.0 (0)\n",
       " -->\n",
       "<!-- Title: Deterministic FSM Pages: 1 -->\n",
       "<svg width=\"510pt\" height=\"164pt\"\n",
       " viewBox=\"0.00 0.00 510.00 164.00\" xmlns=\"http://www.w3.org/2000/svg\" xmlns:xlink=\"http://www.w3.org/1999/xlink\">\n",
       "<g id=\"graph0\" class=\"graph\" transform=\"scale(1 1) rotate(0) translate(4 160)\">\n",
       "<title>Deterministic FSM</title>\n",
       "<polygon fill=\"white\" stroke=\"transparent\" points=\"-4,4 -4,-160 506,-160 506,4 -4,4\"/>\n",
       "<!-- 1 -->\n",
       "<g id=\"node1\" class=\"node\">\n",
       "<title>1</title>\n",
       "<ellipse fill=\"blue\" stroke=\"blue\" cx=\"3.5\" cy=\"-62\" rx=\"3.5\" ry=\"3.5\"/>\n",
       "</g>\n",
       "<!-- S0 -->\n",
       "<g id=\"node2\" class=\"node\">\n",
       "<title>S0</title>\n",
       "<ellipse fill=\"none\" stroke=\"black\" cx=\"71\" cy=\"-62\" rx=\"27\" ry=\"18\"/>\n",
       "<text text-anchor=\"middle\" x=\"71\" y=\"-58.3\" font-family=\"Times,serif\" font-size=\"14.00\">S0</text>\n",
       "</g>\n",
       "<!-- 1&#45;&gt;S0 -->\n",
       "<g id=\"edge1\" class=\"edge\">\n",
       "<title>1&#45;&gt;S0</title>\n",
       "<path fill=\"none\" stroke=\"black\" d=\"M7.31,-62C12.15,-62 22.59,-62 33.58,-62\"/>\n",
       "<polygon fill=\"black\" stroke=\"black\" points=\"33.69,-65.5 43.69,-62 33.69,-58.5 33.69,-65.5\"/>\n",
       "</g>\n",
       "<!-- S1 -->\n",
       "<g id=\"node3\" class=\"node\">\n",
       "<title>S1</title>\n",
       "<ellipse fill=\"none\" stroke=\"black\" cx=\"269\" cy=\"-62\" rx=\"27\" ry=\"18\"/>\n",
       "<ellipse fill=\"none\" stroke=\"black\" cx=\"269\" cy=\"-62\" rx=\"31\" ry=\"22\"/>\n",
       "<text text-anchor=\"middle\" x=\"269\" y=\"-58.3\" font-family=\"Times,serif\" font-size=\"14.00\">S1</text>\n",
       "</g>\n",
       "<!-- S0&#45;&gt;S1 -->\n",
       "<g id=\"edge2\" class=\"edge\">\n",
       "<title>S0&#45;&gt;S1</title>\n",
       "<path fill=\"none\" stroke=\"black\" d=\"M96.03,-68.99C109.19,-72.46 125.85,-76.27 141,-78 164.84,-80.73 171.14,-80.58 195,-78 206.46,-76.76 218.75,-74.45 229.92,-71.97\"/>\n",
       "<polygon fill=\"black\" stroke=\"black\" points=\"230.86,-75.35 239.81,-69.67 229.27,-68.53 230.86,-75.35\"/>\n",
       "<text text-anchor=\"middle\" x=\"168\" y=\"-82.8\" font-family=\"Times,serif\" font-size=\"14.00\">b</text>\n",
       "</g>\n",
       "<!-- S4 -->\n",
       "<g id=\"node6\" class=\"node\">\n",
       "<title>S4</title>\n",
       "<ellipse fill=\"none\" stroke=\"black\" cx=\"168\" cy=\"-18\" rx=\"27\" ry=\"18\"/>\n",
       "<text text-anchor=\"middle\" x=\"168\" y=\"-14.3\" font-family=\"Times,serif\" font-size=\"14.00\">S4</text>\n",
       "</g>\n",
       "<!-- S0&#45;&gt;S4 -->\n",
       "<g id=\"edge3\" class=\"edge\">\n",
       "<title>S0&#45;&gt;S4</title>\n",
       "<path fill=\"none\" stroke=\"black\" d=\"M93.56,-52.02C106.1,-46.21 122.13,-38.78 136,-32.36\"/>\n",
       "<polygon fill=\"black\" stroke=\"black\" points=\"137.6,-35.48 145.2,-28.1 134.65,-29.12 137.6,-35.48\"/>\n",
       "<text text-anchor=\"middle\" x=\"119.5\" y=\"-44.8\" font-family=\"Times,serif\" font-size=\"14.00\">a</text>\n",
       "</g>\n",
       "<!-- S2 -->\n",
       "<g id=\"node4\" class=\"node\">\n",
       "<title>S2</title>\n",
       "<ellipse fill=\"none\" stroke=\"black\" cx=\"374\" cy=\"-101\" rx=\"27\" ry=\"18\"/>\n",
       "<ellipse fill=\"none\" stroke=\"black\" cx=\"374\" cy=\"-101\" rx=\"31\" ry=\"22\"/>\n",
       "<text text-anchor=\"middle\" x=\"374\" y=\"-97.3\" font-family=\"Times,serif\" font-size=\"14.00\">S2</text>\n",
       "</g>\n",
       "<!-- S1&#45;&gt;S2 -->\n",
       "<g id=\"edge5\" class=\"edge\">\n",
       "<title>S1&#45;&gt;S2</title>\n",
       "<path fill=\"none\" stroke=\"black\" d=\"M296.79,-72.14C308.95,-76.75 323.52,-82.27 336.65,-87.24\"/>\n",
       "<polygon fill=\"black\" stroke=\"black\" points=\"335.75,-90.64 346.34,-90.91 338.23,-84.09 335.75,-90.64\"/>\n",
       "<text text-anchor=\"middle\" x=\"321.5\" y=\"-85.8\" font-family=\"Times,serif\" font-size=\"14.00\">a</text>\n",
       "</g>\n",
       "<!-- S3 -->\n",
       "<g id=\"node5\" class=\"node\">\n",
       "<title>S3</title>\n",
       "<ellipse fill=\"none\" stroke=\"black\" cx=\"475\" cy=\"-62\" rx=\"27\" ry=\"18\"/>\n",
       "<text text-anchor=\"middle\" x=\"475\" y=\"-58.3\" font-family=\"Times,serif\" font-size=\"14.00\">S3</text>\n",
       "</g>\n",
       "<!-- S1&#45;&gt;S3 -->\n",
       "<g id=\"edge4\" class=\"edge\">\n",
       "<title>S1&#45;&gt;S3</title>\n",
       "<path fill=\"none\" stroke=\"black\" d=\"M299.79,-58.49C313,-57.11 328.76,-55.68 343,-55 370.52,-53.68 377.48,-53.61 405,-55 415.73,-55.54 427.37,-56.56 437.97,-57.65\"/>\n",
       "<polygon fill=\"black\" stroke=\"black\" points=\"437.84,-61.16 448.16,-58.75 438.6,-54.2 437.84,-61.16\"/>\n",
       "<text text-anchor=\"middle\" x=\"374\" y=\"-58.8\" font-family=\"Times,serif\" font-size=\"14.00\">b</text>\n",
       "</g>\n",
       "<!-- S2&#45;&gt;S2 -->\n",
       "<g id=\"edge7\" class=\"edge\">\n",
       "<title>S2&#45;&gt;S2</title>\n",
       "<path fill=\"none\" stroke=\"black\" d=\"M364.49,-121.99C363.31,-132.09 366.48,-141 374,-141 378.81,-141 381.85,-137.34 383.09,-132.06\"/>\n",
       "<polygon fill=\"black\" stroke=\"black\" points=\"386.59,-132.13 383.51,-121.99 379.6,-131.84 386.59,-132.13\"/>\n",
       "<text text-anchor=\"middle\" x=\"374\" y=\"-144.8\" font-family=\"Times,serif\" font-size=\"14.00\">a</text>\n",
       "</g>\n",
       "<!-- S2&#45;&gt;S3 -->\n",
       "<g id=\"edge6\" class=\"edge\">\n",
       "<title>S2&#45;&gt;S3</title>\n",
       "<path fill=\"none\" stroke=\"black\" d=\"M401.53,-90.55C413.94,-85.66 428.84,-79.79 441.88,-74.65\"/>\n",
       "<polygon fill=\"black\" stroke=\"black\" points=\"443.41,-77.81 451.43,-70.89 440.84,-71.3 443.41,-77.81\"/>\n",
       "<text text-anchor=\"middle\" x=\"426.5\" y=\"-84.8\" font-family=\"Times,serif\" font-size=\"14.00\">b</text>\n",
       "</g>\n",
       "<!-- S3&#45;&gt;S3 -->\n",
       "<g id=\"edge8\" class=\"edge\">\n",
       "<title>S3&#45;&gt;S3</title>\n",
       "<path fill=\"none\" stroke=\"black\" d=\"M470.69,-79.78C469.95,-89.31 471.39,-98 475,-98 477.2,-98 478.59,-94.77 479.18,-90.1\"/>\n",
       "<polygon fill=\"black\" stroke=\"black\" points=\"482.68,-89.83 479.31,-79.78 475.68,-89.74 482.68,-89.83\"/>\n",
       "<text text-anchor=\"middle\" x=\"475\" y=\"-101.8\" font-family=\"Times,serif\" font-size=\"14.00\">b</text>\n",
       "</g>\n",
       "<!-- S3&#45;&gt;S3 -->\n",
       "<g id=\"edge9\" class=\"edge\">\n",
       "<title>S3&#45;&gt;S3</title>\n",
       "<path fill=\"none\" stroke=\"black\" d=\"M467.91,-79.42C463.87,-96.79 466.23,-116 475,-116 482.05,-116 484.96,-103.56 483.72,-89.65\"/>\n",
       "<polygon fill=\"black\" stroke=\"black\" points=\"487.12,-88.74 482.09,-79.42 480.21,-89.85 487.12,-88.74\"/>\n",
       "<text text-anchor=\"middle\" x=\"475\" y=\"-119.8\" font-family=\"Times,serif\" font-size=\"14.00\">a</text>\n",
       "</g>\n",
       "<!-- S4&#45;&gt;S1 -->\n",
       "<g id=\"edge10\" class=\"edge\">\n",
       "<title>S4&#45;&gt;S1</title>\n",
       "<path fill=\"none\" stroke=\"black\" d=\"M190.97,-27.77C203.28,-33.24 218.93,-40.19 232.89,-46.4\"/>\n",
       "<polygon fill=\"black\" stroke=\"black\" points=\"231.68,-49.69 242.24,-50.55 234.52,-43.29 231.68,-49.69\"/>\n",
       "<text text-anchor=\"middle\" x=\"216.5\" y=\"-43.8\" font-family=\"Times,serif\" font-size=\"14.00\">b</text>\n",
       "</g>\n",
       "<!-- S4&#45;&gt;S4 -->\n",
       "<g id=\"edge11\" class=\"edge\">\n",
       "<title>S4&#45;&gt;S4</title>\n",
       "<path fill=\"none\" stroke=\"black\" d=\"M159.43,-35.41C157.83,-45.09 160.69,-54 168,-54 172.57,-54 175.4,-50.52 176.49,-45.54\"/>\n",
       "<polygon fill=\"black\" stroke=\"black\" points=\"179.99,-45.44 176.57,-35.41 172.99,-45.38 179.99,-45.44\"/>\n",
       "<text text-anchor=\"middle\" x=\"168\" y=\"-57.8\" font-family=\"Times,serif\" font-size=\"14.00\">a</text>\n",
       "</g>\n",
       "</g>\n",
       "</svg>\n"
      ],
      "text/plain": [
       "<graphviz.graphs.Digraph at 0x1206555b0>"
      ]
     },
     "execution_count": 21,
     "metadata": {},
     "output_type": "execute_result"
    }
   ],
   "source": [
    "d, StateNames = dfa2dot(dfa) \n",
    "d"
   ]
  },
  {
   "cell_type": "markdown",
   "metadata": {},
   "source": [
    "Note that the resulting DFA is not minimal, since we can identify some states."
   ]
  },
  {
   "cell_type": "code",
   "execution_count": null,
   "metadata": {},
   "outputs": [],
   "source": [
    "StateNames"
   ]
  },
  {
   "cell_type": "code",
   "execution_count": null,
   "metadata": {},
   "outputs": [],
   "source": []
  }
 ],
 "metadata": {
  "kernelspec": {
   "display_name": "Python 3 (ipykernel)",
   "language": "python",
   "name": "python3"
  },
  "language_info": {
   "codemirror_mode": {
    "name": "ipython",
    "version": 3
   },
   "file_extension": ".py",
   "mimetype": "text/x-python",
   "name": "python",
   "nbconvert_exporter": "python",
   "pygments_lexer": "ipython3",
   "version": "3.13.5"
  },
  "varInspector": {
   "cols": {
    "lenName": 16,
    "lenType": 16,
    "lenVar": 40
   },
   "kernels_config": {
    "python": {
     "delete_cmd_postfix": "",
     "delete_cmd_prefix": "del ",
     "library": "var_list.py",
     "varRefreshCmd": "print(var_dic_list())"
    },
    "r": {
     "delete_cmd_postfix": ") ",
     "delete_cmd_prefix": "rm(",
     "library": "var_list.r",
     "varRefreshCmd": "cat(var_dic_list()) "
    }
   },
   "types_to_exclude": [
    "module",
    "function",
    "builtin_function_or_method",
    "instance",
    "_Feature"
   ],
   "window_display": false
  }
 },
 "nbformat": 4,
 "nbformat_minor": 4
}
