{
 "cells": [
  {
   "cell_type": "code",
   "execution_count": 1,
   "metadata": {},
   "outputs": [
    {
     "data": {
      "text/html": [
       "<link href='http://fonts.googleapis.com/css?family=Alegreya+Sans:100,300,400,500,700,800,900,100italic,300italic,400italic,500italic,700italic,800italic,900italic' rel='stylesheet' type='text/css'>\n",
       "<link href='http://fonts.googleapis.com/css?family=Arvo:400,700,400italic' rel='stylesheet' type='text/css'>\n",
       "<link href='http://fonts.googleapis.com/css?family=PT+Mono' rel='stylesheet' type='text/css'>\n",
       "<link href='http://fonts.googleapis.com/css?family=Shadows+Into+Light' rel='stylesheet' type='text/css'>\n",
       "<link href='http://fonts.googleapis.com/css?family=Philosopher:400,700,400italic,700italic' rel='stylesheet' type='text/css'>\n",
       "<link href=\"http://fonts.googleapis.com/css?family=Sacramento\" rel=\"stylesheet\" type=\"text/css\">\n",
       "\n",
       "<style>\n",
       "\n",
       "@font-face {\n",
       "    font-family: \"Computer Modern\";\n",
       "    src: url('http://mirrors.ctan.org/fonts/cm-unicode/fonts/otf/cmunss.otf');\n",
       "}\n",
       "\n",
       ".container { width: 100% }\n",
       "\n",
       "/* Formatting for header cells */\n",
       ".text_cell_render h1 {\n",
       "    font-family: 'Philosopher', sans-serif;\n",
       "    font-weight: 400;\n",
       "    font-size: 2.2em;\n",
       "    line-height: 100%;\n",
       "    color: rgb(0, 80, 120);\n",
       "    margin-bottom: 0.1em;\n",
       "    margin-top: 0.1em;\n",
       "    display: block;\n",
       "}\t\n",
       ".text_cell_render h2 {\n",
       "    font-family: 'Philosopher', serif;\n",
       "    font-weight: 400;\n",
       "    font-size: 1.9em;\n",
       "    line-height: 100%;\n",
       "    color: rgb(200,100,0);\n",
       "    margin-bottom: 0.1em;\n",
       "    margin-top: 0.1em;\n",
       "    display: block;\n",
       "}\t\n",
       "\n",
       ".text_cell_render h3 {\n",
       "    font-family: 'Philosopher', serif;\n",
       "    margin-top:12px;\n",
       "    margin-bottom: 3px;\n",
       "    font-style: italic;\n",
       "    color: rgb(94,127,192);\n",
       "}\n",
       "\n",
       ".text_cell_render h4 {\n",
       "    font-family: 'Philosopher', serif;\n",
       "}\n",
       "\n",
       ".text_cell_render h5 {\n",
       "    font-family: 'Alegreya Sans', sans-serif;\n",
       "    font-weight: 300;\n",
       "    font-size: 16pt;\n",
       "    color: grey;\n",
       "    font-style: italic;\n",
       "    margin-bottom: .1em;\n",
       "    margin-top: 0.1em;\n",
       "    display: block;\n",
       "}\n",
       "\n",
       ".text_cell_render h6 {\n",
       "    font-family: 'PT Mono', sans-serif;\n",
       "    font-weight: 300;\n",
       "    font-size: 10pt;\n",
       "    color: grey;\n",
       "    margin-bottom: 1px;\n",
       "    margin-top: 1px;\n",
       "}\n",
       "\n",
       ".text_cell_render em {\n",
       "    font-family: 'Philosopher', sans-serif;\n",
       "    color:        blue;\n",
       "    background-color: rgb(255,220,180);\n",
       "    font-size:    110%;\n",
       "    margin-left:   2px;\n",
       "    margin-right:  2px;\n",
       "    font-weight:   100;\n",
       "}\n",
       "\n",
       ".text_cell_render b {\n",
       "    color:            rgb(255,195,195);\n",
       "    background-color: rgb(0,0,0);\n",
       "    font-size:    110%;\n",
       "    margin-left:   2px;\n",
       "    margin-right:  2px;\n",
       "    font-weight:   650;\n",
       "}\n",
       "\n",
       ".text_cell_render u {\n",
       "    color:            blue;\n",
       "    font-size:    110%;\n",
       "    margin-left:   2px;\n",
       "    margin-right:  2px;\n",
       "    font-weight:   650;\n",
       "}\n",
       "\n",
       ".text_cell_render tt {\n",
       "    font-size:    120%;\n",
       "    margin-left:   2px;\n",
       "    margin-right:  2px;\n",
       "    font-weight:   150;\n",
       "}\n",
       "\n",
       ".Codemirror {\n",
       "    font-family: \"PT Mono\";\n",
       "    font-size: 100%;\n",
       "}\n",
       "\n",
       "#fancy {\n",
       "    font-family:      Georgia;\n",
       "    position:         relative;\n",
       "    float:            left;\n",
       "    border:           2px solid red;\n",
       "    width:            600px;\n",
       "    padding-left:     20px;\n",
       "    padding-right:    20px;\n",
       "    padding-top:      10px;\n",
       "    font-family:      'Sacramento', cursive;\n",
       "    font-size:        26px;\n",
       "    background-color: #F4EBF3;\n",
       "    border-radius:    15px;\n",
       "}\n",
       "\n",
       "</Style>\n",
       "\n"
      ],
      "text/plain": [
       "<IPython.core.display.HTML object>"
      ]
     },
     "execution_count": 1,
     "metadata": {},
     "output_type": "execute_result"
    }
   ],
   "source": [
    "from IPython.display import HTML\n",
    "HTML(open('../style.css', 'r').read())"
   ]
  },
  {
   "cell_type": "markdown",
   "metadata": {},
   "source": [
    "This notebook contains a test for the function `toNFA` implemented in the notebook `03-Regexp-2-NFA.ipynb`.\n",
    "In order to write regular expressions conveniently, we need the parser implemented in `RegExp-Parser.ipynb`."
   ]
  },
  {
   "cell_type": "code",
   "execution_count": 2,
   "metadata": {},
   "outputs": [
    {
     "name": "stderr",
     "output_type": "stream",
     "text": [
      "Version 1.0.6\n"
     ]
    },
    {
     "name": "stdout",
     "output_type": "stream",
     "text": [
      "The nb_mypy extension is already loaded. To reload it, use:\n",
      "  %reload_ext nb_mypy\n"
     ]
    }
   ],
   "source": [
    "%run 03-Regexp-2-NFA.ipynb\n",
    "%run RegExp-Parser.ipynb"
   ]
  },
  {
   "cell_type": "markdown",
   "metadata": {},
   "source": [
    "The `nb_mypy` extension does not work with notebooks that are imported via the `%run`magic.  \n",
    "Therefore, we have to switch the extension off in this notebook."
   ]
  },
  {
   "cell_type": "code",
   "execution_count": 3,
   "metadata": {},
   "outputs": [],
   "source": [
    "%unload_ext nb_mypy"
   ]
  },
  {
   "cell_type": "markdown",
   "metadata": {},
   "source": [
    "If the regular expression `r` that is defined below has been written in the style of the lecture notes, it would read:\n",
    "$$(\\texttt{a}\\cdot\\texttt{b} + \\texttt{b}\\cdot\\texttt{a})^*$$"
   ]
  },
  {
   "cell_type": "code",
   "execution_count": 4,
   "metadata": {},
   "outputs": [
    {
     "data": {
      "text/plain": [
       "((('a', '⋅', 'b'), '+', ('b', '⋅', 'a')), '*')"
      ]
     },
     "execution_count": 4,
     "metadata": {},
     "output_type": "execute_result"
    }
   ],
   "source": [
    "r = parse('(ab+ba)*')\n",
    "r"
   ]
  },
  {
   "cell_type": "code",
   "execution_count": 5,
   "metadata": {},
   "outputs": [],
   "source": [
    "converter = RegExp2NFA({'a', 'b'}) "
   ]
  },
  {
   "cell_type": "markdown",
   "metadata": {},
   "source": [
    "We use `converter` to create an <span style=\"font-variant:small-caps;\">NFA</span>  that accepts the language \n",
    "described by the regular expression `r`."
   ]
  },
  {
   "cell_type": "code",
   "execution_count": 6,
   "metadata": {},
   "outputs": [
    {
     "data": {
      "text/plain": [
       "({1, 2, 3, 4, 5, 6, 7, 8, 9, 10, 11, 12},\n",
       " {'a', 'b'},\n",
       " {(1, 'a'): {2},\n",
       "  (3, 'b'): {4},\n",
       "  (2, '𝜀'): {3},\n",
       "  (5, 'b'): {6},\n",
       "  (7, 'a'): {8},\n",
       "  (6, '𝜀'): {7},\n",
       "  (9, '𝜀'): {1, 5},\n",
       "  (4, '𝜀'): {10},\n",
       "  (8, '𝜀'): {10},\n",
       "  (11, '𝜀'): {9, 12},\n",
       "  (10, '𝜀'): {9, 12}},\n",
       " 11,\n",
       " {12})"
      ]
     },
     "execution_count": 6,
     "metadata": {},
     "output_type": "execute_result"
    }
   ],
   "source": [
    "nfa = converter.toNFA(r) \n",
    "nfa"
   ]
  },
  {
   "cell_type": "code",
   "execution_count": 7,
   "metadata": {},
   "outputs": [],
   "source": [
    "%run FSM-2-Dot.ipynb"
   ]
  },
  {
   "cell_type": "code",
   "execution_count": 8,
   "metadata": {},
   "outputs": [
    {
     "data": {
      "image/svg+xml": [
       "<?xml version=\"1.0\" encoding=\"UTF-8\" standalone=\"no\"?>\n",
       "<!DOCTYPE svg PUBLIC \"-//W3C//DTD SVG 1.1//EN\"\n",
       " \"http://www.w3.org/Graphics/SVG/1.1/DTD/svg11.dtd\">\n",
       "<!-- Generated by graphviz version 9.0.0 (0)\n",
       " -->\n",
       "<!-- Title: Non&#45;Deterministic FSM Pages: 1 -->\n",
       "<svg width=\"784pt\" height=\"169pt\"\n",
       " viewBox=\"0.00 0.00 783.95 169.00\" xmlns=\"http://www.w3.org/2000/svg\" xmlns:xlink=\"http://www.w3.org/1999/xlink\">\n",
       "<g id=\"graph0\" class=\"graph\" transform=\"scale(1 1) rotate(0) translate(4 165)\">\n",
       "<title>Non&#45;Deterministic FSM</title>\n",
       "<polygon fill=\"white\" stroke=\"none\" points=\"-4,4 -4,-165 779.95,-165 779.95,4 -4,4\"/>\n",
       "<!-- 0 -->\n",
       "<g id=\"node1\" class=\"node\">\n",
       "<title>0</title>\n",
       "<ellipse fill=\"blue\" stroke=\"blue\" cx=\"3.6\" cy=\"-18\" rx=\"3.6\" ry=\"3.6\"/>\n",
       "</g>\n",
       "<!-- 11 -->\n",
       "<g id=\"node2\" class=\"node\">\n",
       "<title>11</title>\n",
       "<ellipse fill=\"none\" stroke=\"black\" cx=\"71.2\" cy=\"-18\" rx=\"27\" ry=\"18\"/>\n",
       "<text text-anchor=\"middle\" x=\"71.2\" y=\"-12.95\" font-family=\"Times,serif\" font-size=\"14.00\">11</text>\n",
       "</g>\n",
       "<!-- 0&#45;&gt;11 -->\n",
       "<g id=\"edge1\" class=\"edge\">\n",
       "<title>0&#45;&gt;11</title>\n",
       "<path fill=\"none\" stroke=\"black\" d=\"M7.42,-18C12.07,-18 21.87,-18 32.38,-18\"/>\n",
       "<polygon fill=\"black\" stroke=\"black\" points=\"32.34,-21.5 42.34,-18 32.34,-14.5 32.34,-21.5\"/>\n",
       "</g>\n",
       "<!-- 9 -->\n",
       "<g id=\"node11\" class=\"node\">\n",
       "<title>9</title>\n",
       "<ellipse fill=\"none\" stroke=\"black\" cx=\"166.45\" cy=\"-58\" rx=\"27\" ry=\"18\"/>\n",
       "<text text-anchor=\"middle\" x=\"166.45\" y=\"-52.95\" font-family=\"Times,serif\" font-size=\"14.00\">9</text>\n",
       "</g>\n",
       "<!-- 11&#45;&gt;9 -->\n",
       "<g id=\"edge10\" class=\"edge\">\n",
       "<title>11&#45;&gt;9</title>\n",
       "<path fill=\"none\" stroke=\"black\" d=\"M94.3,-27.48C105.83,-32.42 120.15,-38.57 132.92,-44.05\"/>\n",
       "<polygon fill=\"black\" stroke=\"black\" points=\"131.23,-47.13 141.8,-47.85 133.99,-40.69 131.23,-47.13\"/>\n",
       "<text text-anchor=\"middle\" x=\"118.83\" y=\"-39.7\" font-family=\"Times,serif\" font-size=\"14.00\">𝜀</text>\n",
       "</g>\n",
       "<!-- 12 -->\n",
       "<g id=\"node13\" class=\"node\">\n",
       "<title>12</title>\n",
       "<ellipse fill=\"none\" stroke=\"black\" cx=\"744.95\" cy=\"-32\" rx=\"27\" ry=\"18\"/>\n",
       "<ellipse fill=\"none\" stroke=\"black\" cx=\"744.95\" cy=\"-32\" rx=\"31\" ry=\"22\"/>\n",
       "<text text-anchor=\"middle\" x=\"744.95\" y=\"-26.95\" font-family=\"Times,serif\" font-size=\"14.00\">12</text>\n",
       "</g>\n",
       "<!-- 11&#45;&gt;12 -->\n",
       "<g id=\"edge11\" class=\"edge\">\n",
       "<title>11&#45;&gt;12</title>\n",
       "<path fill=\"none\" stroke=\"black\" d=\"M98.53,-18.55C201.34,-20.69 576.21,-28.5 702.27,-31.13\"/>\n",
       "<polygon fill=\"black\" stroke=\"black\" points=\"702.09,-34.63 712.16,-31.34 702.23,-27.63 702.09,-34.63\"/>\n",
       "<text text-anchor=\"middle\" x=\"406.08\" y=\"-26.7\" font-family=\"Times,serif\" font-size=\"14.00\">𝜀</text>\n",
       "</g>\n",
       "<!-- 1 -->\n",
       "<g id=\"node3\" class=\"node\">\n",
       "<title>1</title>\n",
       "<ellipse fill=\"none\" stroke=\"black\" cx=\"261.7\" cy=\"-138\" rx=\"27\" ry=\"18\"/>\n",
       "<text text-anchor=\"middle\" x=\"261.7\" y=\"-132.95\" font-family=\"Times,serif\" font-size=\"14.00\">1</text>\n",
       "</g>\n",
       "<!-- 2 -->\n",
       "<g id=\"node4\" class=\"node\">\n",
       "<title>2</title>\n",
       "<ellipse fill=\"none\" stroke=\"black\" cx=\"358.45\" cy=\"-138\" rx=\"27\" ry=\"18\"/>\n",
       "<text text-anchor=\"middle\" x=\"358.45\" y=\"-132.95\" font-family=\"Times,serif\" font-size=\"14.00\">2</text>\n",
       "</g>\n",
       "<!-- 1&#45;&gt;2 -->\n",
       "<g id=\"edge12\" class=\"edge\">\n",
       "<title>1&#45;&gt;2</title>\n",
       "<path fill=\"none\" stroke=\"black\" d=\"M289.09,-138C298.64,-138 309.61,-138 319.93,-138\"/>\n",
       "<polygon fill=\"black\" stroke=\"black\" points=\"319.68,-141.5 329.68,-138 319.68,-134.5 319.68,-141.5\"/>\n",
       "<text text-anchor=\"middle\" x=\"310.08\" y=\"-141.2\" font-family=\"Times,serif\" font-size=\"14.00\">a</text>\n",
       "</g>\n",
       "<!-- 3 -->\n",
       "<g id=\"node5\" class=\"node\">\n",
       "<title>3</title>\n",
       "<ellipse fill=\"none\" stroke=\"black\" cx=\"453.7\" cy=\"-143\" rx=\"27\" ry=\"18\"/>\n",
       "<text text-anchor=\"middle\" x=\"453.7\" y=\"-137.95\" font-family=\"Times,serif\" font-size=\"14.00\">3</text>\n",
       "</g>\n",
       "<!-- 2&#45;&gt;3 -->\n",
       "<g id=\"edge2\" class=\"edge\">\n",
       "<title>2&#45;&gt;3</title>\n",
       "<path fill=\"none\" stroke=\"black\" d=\"M385.43,-139.39C394.64,-139.89 405.21,-140.45 415.2,-140.99\"/>\n",
       "<polygon fill=\"black\" stroke=\"black\" points=\"414.86,-144.48 425.03,-141.52 415.23,-137.49 414.86,-144.48\"/>\n",
       "<text text-anchor=\"middle\" x=\"406.08\" y=\"-141.7\" font-family=\"Times,serif\" font-size=\"14.00\">𝜀</text>\n",
       "</g>\n",
       "<!-- 4 -->\n",
       "<g id=\"node6\" class=\"node\">\n",
       "<title>4</title>\n",
       "<ellipse fill=\"none\" stroke=\"black\" cx=\"550.45\" cy=\"-143\" rx=\"27\" ry=\"18\"/>\n",
       "<text text-anchor=\"middle\" x=\"550.45\" y=\"-137.95\" font-family=\"Times,serif\" font-size=\"14.00\">4</text>\n",
       "</g>\n",
       "<!-- 3&#45;&gt;4 -->\n",
       "<g id=\"edge13\" class=\"edge\">\n",
       "<title>3&#45;&gt;4</title>\n",
       "<path fill=\"none\" stroke=\"black\" d=\"M481.09,-143C490.64,-143 501.61,-143 511.93,-143\"/>\n",
       "<polygon fill=\"black\" stroke=\"black\" points=\"511.68,-146.5 521.68,-143 511.68,-139.5 511.68,-146.5\"/>\n",
       "<text text-anchor=\"middle\" x=\"502.08\" y=\"-146.2\" font-family=\"Times,serif\" font-size=\"14.00\">b</text>\n",
       "</g>\n",
       "<!-- 10 -->\n",
       "<g id=\"node12\" class=\"node\">\n",
       "<title>10</title>\n",
       "<ellipse fill=\"none\" stroke=\"black\" cx=\"645.7\" cy=\"-61\" rx=\"27\" ry=\"18\"/>\n",
       "<text text-anchor=\"middle\" x=\"645.7\" y=\"-55.95\" font-family=\"Times,serif\" font-size=\"14.00\">10</text>\n",
       "</g>\n",
       "<!-- 4&#45;&gt;10 -->\n",
       "<g id=\"edge3\" class=\"edge\">\n",
       "<title>4&#45;&gt;10</title>\n",
       "<path fill=\"none\" stroke=\"black\" d=\"M567.69,-128.72C582.13,-116.02 603.46,-97.26 620.01,-82.71\"/>\n",
       "<polygon fill=\"black\" stroke=\"black\" points=\"622.31,-85.35 627.51,-76.12 617.69,-80.09 622.31,-85.35\"/>\n",
       "<text text-anchor=\"middle\" x=\"598.08\" y=\"-103.7\" font-family=\"Times,serif\" font-size=\"14.00\">𝜀</text>\n",
       "</g>\n",
       "<!-- 5 -->\n",
       "<g id=\"node7\" class=\"node\">\n",
       "<title>5</title>\n",
       "<ellipse fill=\"none\" stroke=\"black\" cx=\"261.7\" cy=\"-84\" rx=\"27\" ry=\"18\"/>\n",
       "<text text-anchor=\"middle\" x=\"261.7\" y=\"-78.95\" font-family=\"Times,serif\" font-size=\"14.00\">5</text>\n",
       "</g>\n",
       "<!-- 6 -->\n",
       "<g id=\"node8\" class=\"node\">\n",
       "<title>6</title>\n",
       "<ellipse fill=\"none\" stroke=\"black\" cx=\"358.45\" cy=\"-84\" rx=\"27\" ry=\"18\"/>\n",
       "<text text-anchor=\"middle\" x=\"358.45\" y=\"-78.95\" font-family=\"Times,serif\" font-size=\"14.00\">6</text>\n",
       "</g>\n",
       "<!-- 5&#45;&gt;6 -->\n",
       "<g id=\"edge14\" class=\"edge\">\n",
       "<title>5&#45;&gt;6</title>\n",
       "<path fill=\"none\" stroke=\"black\" d=\"M289.09,-84C298.64,-84 309.61,-84 319.93,-84\"/>\n",
       "<polygon fill=\"black\" stroke=\"black\" points=\"319.68,-87.5 329.68,-84 319.68,-80.5 319.68,-87.5\"/>\n",
       "<text text-anchor=\"middle\" x=\"310.08\" y=\"-87.2\" font-family=\"Times,serif\" font-size=\"14.00\">b</text>\n",
       "</g>\n",
       "<!-- 7 -->\n",
       "<g id=\"node9\" class=\"node\">\n",
       "<title>7</title>\n",
       "<ellipse fill=\"none\" stroke=\"black\" cx=\"453.7\" cy=\"-89\" rx=\"27\" ry=\"18\"/>\n",
       "<text text-anchor=\"middle\" x=\"453.7\" y=\"-83.95\" font-family=\"Times,serif\" font-size=\"14.00\">7</text>\n",
       "</g>\n",
       "<!-- 6&#45;&gt;7 -->\n",
       "<g id=\"edge4\" class=\"edge\">\n",
       "<title>6&#45;&gt;7</title>\n",
       "<path fill=\"none\" stroke=\"black\" d=\"M385.43,-85.39C394.64,-85.89 405.21,-86.45 415.2,-86.99\"/>\n",
       "<polygon fill=\"black\" stroke=\"black\" points=\"414.86,-90.48 425.03,-87.52 415.23,-83.49 414.86,-90.48\"/>\n",
       "<text text-anchor=\"middle\" x=\"406.08\" y=\"-87.7\" font-family=\"Times,serif\" font-size=\"14.00\">𝜀</text>\n",
       "</g>\n",
       "<!-- 8 -->\n",
       "<g id=\"node10\" class=\"node\">\n",
       "<title>8</title>\n",
       "<ellipse fill=\"none\" stroke=\"black\" cx=\"550.45\" cy=\"-89\" rx=\"27\" ry=\"18\"/>\n",
       "<text text-anchor=\"middle\" x=\"550.45\" y=\"-83.95\" font-family=\"Times,serif\" font-size=\"14.00\">8</text>\n",
       "</g>\n",
       "<!-- 7&#45;&gt;8 -->\n",
       "<g id=\"edge15\" class=\"edge\">\n",
       "<title>7&#45;&gt;8</title>\n",
       "<path fill=\"none\" stroke=\"black\" d=\"M481.09,-89C490.64,-89 501.61,-89 511.93,-89\"/>\n",
       "<polygon fill=\"black\" stroke=\"black\" points=\"511.68,-92.5 521.68,-89 511.68,-85.5 511.68,-92.5\"/>\n",
       "<text text-anchor=\"middle\" x=\"502.08\" y=\"-92.2\" font-family=\"Times,serif\" font-size=\"14.00\">a</text>\n",
       "</g>\n",
       "<!-- 8&#45;&gt;10 -->\n",
       "<g id=\"edge5\" class=\"edge\">\n",
       "<title>8&#45;&gt;10</title>\n",
       "<path fill=\"none\" stroke=\"black\" d=\"M575.46,-81.79C585.83,-78.68 598.15,-74.98 609.51,-71.57\"/>\n",
       "<polygon fill=\"black\" stroke=\"black\" points=\"610.42,-74.95 618.99,-68.72 608.41,-68.24 610.42,-74.95\"/>\n",
       "<text text-anchor=\"middle\" x=\"598.08\" y=\"-76.7\" font-family=\"Times,serif\" font-size=\"14.00\">𝜀</text>\n",
       "</g>\n",
       "<!-- 9&#45;&gt;1 -->\n",
       "<g id=\"edge6\" class=\"edge\">\n",
       "<title>9&#45;&gt;1</title>\n",
       "<path fill=\"none\" stroke=\"black\" d=\"M183.69,-71.93C198.05,-84.25 219.2,-102.4 235.71,-116.56\"/>\n",
       "<polygon fill=\"black\" stroke=\"black\" points=\"233.31,-119.12 243.18,-122.97 237.87,-113.8 233.31,-119.12\"/>\n",
       "<text text-anchor=\"middle\" x=\"214.08\" y=\"-99.7\" font-family=\"Times,serif\" font-size=\"14.00\">𝜀</text>\n",
       "</g>\n",
       "<!-- 9&#45;&gt;5 -->\n",
       "<g id=\"edge7\" class=\"edge\">\n",
       "<title>9&#45;&gt;5</title>\n",
       "<path fill=\"none\" stroke=\"black\" d=\"M191.95,-64.83C202.23,-67.7 214.38,-71.08 225.58,-74.21\"/>\n",
       "<polygon fill=\"black\" stroke=\"black\" points=\"224.33,-77.49 234.91,-76.81 226.21,-70.75 224.33,-77.49\"/>\n",
       "<text text-anchor=\"middle\" x=\"214.08\" y=\"-72.7\" font-family=\"Times,serif\" font-size=\"14.00\">𝜀</text>\n",
       "</g>\n",
       "<!-- 10&#45;&gt;9 -->\n",
       "<g id=\"edge8\" class=\"edge\">\n",
       "<title>10&#45;&gt;9</title>\n",
       "<path fill=\"none\" stroke=\"black\" d=\"M618.57,-60.46C571.82,-59.53 470.75,-57.66 385.45,-57 318.45,-56.48 301.7,-56.5 234.7,-57 225.07,-57.07 214.67,-57.2 204.99,-57.34\"/>\n",
       "<polygon fill=\"black\" stroke=\"black\" points=\"205.09,-53.84 195.15,-57.5 205.2,-60.84 205.09,-53.84\"/>\n",
       "<text text-anchor=\"middle\" x=\"406.08\" y=\"-58.7\" font-family=\"Times,serif\" font-size=\"14.00\">𝜀</text>\n",
       "</g>\n",
       "<!-- 10&#45;&gt;12 -->\n",
       "<g id=\"edge9\" class=\"edge\">\n",
       "<title>10&#45;&gt;12</title>\n",
       "<path fill=\"none\" stroke=\"black\" d=\"M670.74,-53.83C681.14,-50.73 693.58,-47.02 705.22,-43.55\"/>\n",
       "<polygon fill=\"black\" stroke=\"black\" points=\"706.02,-46.96 714.6,-40.75 704.02,-40.25 706.02,-46.96\"/>\n",
       "<text text-anchor=\"middle\" x=\"693.33\" y=\"-48.7\" font-family=\"Times,serif\" font-size=\"14.00\">𝜀</text>\n",
       "</g>\n",
       "</g>\n",
       "</svg>\n"
      ],
      "text/plain": [
       "<graphviz.graphs.Digraph at 0x1108f78c0>"
      ]
     },
     "execution_count": 8,
     "metadata": {},
     "output_type": "execute_result"
    }
   ],
   "source": [
    "d = nfa2dot(nfa) \n",
    "d       "
   ]
  },
  {
   "cell_type": "markdown",
   "metadata": {},
   "source": [
    "After having constructed a non-deterministic <span style=\"font-variant:small-caps;\">Fsm</span> for the regular expression,\n",
    "we convert it into a deterministic <span style=\"font-variant:small-caps;\">Fsm</span>."
   ]
  },
  {
   "cell_type": "code",
   "execution_count": 9,
   "metadata": {},
   "outputs": [
    {
     "name": "stderr",
     "output_type": "stream",
     "text": [
      "Version 1.0.6\n"
     ]
    }
   ],
   "source": [
    "%run 01-NFA-2-DFA.ipynb"
   ]
  },
  {
   "cell_type": "code",
   "execution_count": 10,
   "metadata": {},
   "outputs": [],
   "source": [
    "%unload_ext nb_mypy"
   ]
  },
  {
   "cell_type": "code",
   "execution_count": 11,
   "metadata": {},
   "outputs": [
    {
     "data": {
      "text/plain": [
       "({frozenset(),\n",
       "  frozenset({2, 3}),\n",
       "  frozenset({6, 7}),\n",
       "  frozenset({1, 5, 8, 9, 10, 12}),\n",
       "  frozenset({1, 5, 9, 11, 12}),\n",
       "  frozenset({1, 4, 5, 9, 10, 12})},\n",
       " {'a', 'b'},\n",
       " {(frozenset({2, 3}), 'a'): frozenset(),\n",
       "  (frozenset({2, 3}), 'b'): frozenset({1, 4, 5, 9, 10, 12}),\n",
       "  (frozenset({6, 7}), 'a'): frozenset({1, 5, 8, 9, 10, 12}),\n",
       "  (frozenset({6, 7}), 'b'): frozenset(),\n",
       "  (frozenset({1, 5, 8, 9, 10, 12}), 'a'): frozenset({2, 3}),\n",
       "  (frozenset({1, 5, 8, 9, 10, 12}), 'b'): frozenset({6, 7}),\n",
       "  (frozenset({1, 5, 9, 11, 12}), 'a'): frozenset({2, 3}),\n",
       "  (frozenset({1, 5, 9, 11, 12}), 'b'): frozenset({6, 7}),\n",
       "  (frozenset(), 'a'): frozenset(),\n",
       "  (frozenset(), 'b'): frozenset(),\n",
       "  (frozenset({1, 4, 5, 9, 10, 12}), 'a'): frozenset({2, 3}),\n",
       "  (frozenset({1, 4, 5, 9, 10, 12}), 'b'): frozenset({6, 7})},\n",
       " frozenset({1, 5, 9, 11, 12}),\n",
       " {frozenset({1, 5, 8, 9, 10, 12}),\n",
       "  frozenset({1, 5, 9, 11, 12}),\n",
       "  frozenset({1, 4, 5, 9, 10, 12})})"
      ]
     },
     "execution_count": 11,
     "metadata": {},
     "output_type": "execute_result"
    }
   ],
   "source": [
    "dfa = nfa2dfa(nfa) \n",
    "dfa"
   ]
  },
  {
   "cell_type": "code",
   "execution_count": 12,
   "metadata": {},
   "outputs": [
    {
     "data": {
      "image/svg+xml": [
       "<?xml version=\"1.0\" encoding=\"UTF-8\" standalone=\"no\"?>\n",
       "<!DOCTYPE svg PUBLIC \"-//W3C//DTD SVG 1.1//EN\"\n",
       " \"http://www.w3.org/Graphics/SVG/1.1/DTD/svg11.dtd\">\n",
       "<!-- Generated by graphviz version 9.0.0 (0)\n",
       " -->\n",
       "<!-- Title: Deterministic FSM Pages: 1 -->\n",
       "<svg width=\"516pt\" height=\"268pt\"\n",
       " viewBox=\"0.00 0.00 516.45 268.00\" xmlns=\"http://www.w3.org/2000/svg\" xmlns:xlink=\"http://www.w3.org/1999/xlink\">\n",
       "<g id=\"graph0\" class=\"graph\" transform=\"scale(1 1) rotate(0) translate(4 264)\">\n",
       "<title>Deterministic FSM</title>\n",
       "<polygon fill=\"white\" stroke=\"none\" points=\"-4,4 -4,-264 512.45,-264 512.45,4 -4,4\"/>\n",
       "<!-- 1 -->\n",
       "<g id=\"node1\" class=\"node\">\n",
       "<title>1</title>\n",
       "<ellipse fill=\"blue\" stroke=\"blue\" cx=\"3.6\" cy=\"-22\" rx=\"3.6\" ry=\"3.6\"/>\n",
       "</g>\n",
       "<!-- S3 -->\n",
       "<g id=\"node2\" class=\"node\">\n",
       "<title>S3</title>\n",
       "<ellipse fill=\"none\" stroke=\"black\" cx=\"75.2\" cy=\"-22\" rx=\"27\" ry=\"18\"/>\n",
       "<ellipse fill=\"none\" stroke=\"black\" cx=\"75.2\" cy=\"-22\" rx=\"31\" ry=\"22\"/>\n",
       "<text text-anchor=\"middle\" x=\"75.2\" y=\"-16.95\" font-family=\"Times,serif\" font-size=\"14.00\">S3</text>\n",
       "</g>\n",
       "<!-- 1&#45;&gt;S3 -->\n",
       "<g id=\"edge1\" class=\"edge\">\n",
       "<title>1&#45;&gt;S3</title>\n",
       "<path fill=\"none\" stroke=\"black\" d=\"M7.59,-22C12.25,-22 21.81,-22 32.27,-22\"/>\n",
       "<polygon fill=\"black\" stroke=\"black\" points=\"32.26,-25.5 42.26,-22 32.26,-18.5 32.26,-25.5\"/>\n",
       "</g>\n",
       "<!-- S0 -->\n",
       "<g id=\"node3\" class=\"node\">\n",
       "<title>S0</title>\n",
       "<ellipse fill=\"none\" stroke=\"black\" cx=\"175.2\" cy=\"-77\" rx=\"27\" ry=\"18\"/>\n",
       "<text text-anchor=\"middle\" x=\"175.2\" y=\"-71.95\" font-family=\"Times,serif\" font-size=\"14.00\">S0</text>\n",
       "</g>\n",
       "<!-- S3&#45;&gt;S0 -->\n",
       "<g id=\"edge8\" class=\"edge\">\n",
       "<title>S3&#45;&gt;S0</title>\n",
       "<path fill=\"none\" stroke=\"black\" d=\"M100.17,-35.45C113.4,-42.88 129.94,-52.16 144.04,-60.07\"/>\n",
       "<polygon fill=\"black\" stroke=\"black\" points=\"142.03,-62.96 152.47,-64.8 145.46,-56.86 142.03,-62.96\"/>\n",
       "<text text-anchor=\"middle\" x=\"127.2\" y=\"-55.2\" font-family=\"Times,serif\" font-size=\"14.00\">a</text>\n",
       "</g>\n",
       "<!-- S1 -->\n",
       "<g id=\"node4\" class=\"node\">\n",
       "<title>S1</title>\n",
       "<ellipse fill=\"none\" stroke=\"black\" cx=\"376.7\" cy=\"-106\" rx=\"27\" ry=\"18\"/>\n",
       "<text text-anchor=\"middle\" x=\"376.7\" y=\"-100.95\" font-family=\"Times,serif\" font-size=\"14.00\">S1</text>\n",
       "</g>\n",
       "<!-- S3&#45;&gt;S1 -->\n",
       "<g id=\"edge9\" class=\"edge\">\n",
       "<title>S3&#45;&gt;S1</title>\n",
       "<path fill=\"none\" stroke=\"black\" d=\"M106.54,-22.09C156.11,-23.36 256.47,-30.66 331.7,-67 339.66,-70.85 347.27,-76.56 353.86,-82.43\"/>\n",
       "<polygon fill=\"black\" stroke=\"black\" points=\"351.41,-84.93 361.05,-89.32 356.26,-79.88 351.41,-84.93\"/>\n",
       "<text text-anchor=\"middle\" x=\"223.58\" y=\"-38.2\" font-family=\"Times,serif\" font-size=\"14.00\">b</text>\n",
       "</g>\n",
       "<!-- S4 -->\n",
       "<g id=\"node6\" class=\"node\">\n",
       "<title>S4</title>\n",
       "<ellipse fill=\"none\" stroke=\"black\" cx=\"477.45\" cy=\"-173\" rx=\"27\" ry=\"18\"/>\n",
       "<text text-anchor=\"middle\" x=\"477.45\" y=\"-167.95\" font-family=\"Times,serif\" font-size=\"14.00\">S4</text>\n",
       "</g>\n",
       "<!-- S0&#45;&gt;S4 -->\n",
       "<g id=\"edge2\" class=\"edge\">\n",
       "<title>S0&#45;&gt;S4</title>\n",
       "<path fill=\"none\" stroke=\"black\" d=\"M189.08,-92.86C201.67,-107.12 222.23,-127.27 244.95,-137 309.27,-164.54 391.68,-171.32 438.83,-172.81\"/>\n",
       "<polygon fill=\"black\" stroke=\"black\" points=\"438.71,-176.31 448.79,-173.05 438.88,-169.31 438.71,-176.31\"/>\n",
       "<text text-anchor=\"middle\" x=\"328.33\" y=\"-164.2\" font-family=\"Times,serif\" font-size=\"14.00\">a</text>\n",
       "</g>\n",
       "<!-- S5 -->\n",
       "<g id=\"node7\" class=\"node\">\n",
       "<title>S5</title>\n",
       "<ellipse fill=\"none\" stroke=\"black\" cx=\"275.95\" cy=\"-106\" rx=\"27\" ry=\"18\"/>\n",
       "<ellipse fill=\"none\" stroke=\"black\" cx=\"275.95\" cy=\"-106\" rx=\"31\" ry=\"22\"/>\n",
       "<text text-anchor=\"middle\" x=\"275.95\" y=\"-100.95\" font-family=\"Times,serif\" font-size=\"14.00\">S5</text>\n",
       "</g>\n",
       "<!-- S0&#45;&gt;S5 -->\n",
       "<g id=\"edge3\" class=\"edge\">\n",
       "<title>S0&#45;&gt;S5</title>\n",
       "<path fill=\"none\" stroke=\"black\" d=\"M198.29,-86.99C205.2,-89.86 212.93,-92.8 220.2,-95 224.74,-96.37 229.55,-97.62 234.35,-98.74\"/>\n",
       "<polygon fill=\"black\" stroke=\"black\" points=\"233.44,-102.13 243.95,-100.82 234.91,-95.28 233.44,-102.13\"/>\n",
       "<text text-anchor=\"middle\" x=\"223.58\" y=\"-100.2\" font-family=\"Times,serif\" font-size=\"14.00\">b</text>\n",
       "</g>\n",
       "<!-- S2 -->\n",
       "<g id=\"node5\" class=\"node\">\n",
       "<title>S2</title>\n",
       "<ellipse fill=\"none\" stroke=\"black\" cx=\"477.45\" cy=\"-77\" rx=\"27\" ry=\"18\"/>\n",
       "<ellipse fill=\"none\" stroke=\"black\" cx=\"477.45\" cy=\"-77\" rx=\"31\" ry=\"22\"/>\n",
       "<text text-anchor=\"middle\" x=\"477.45\" y=\"-71.95\" font-family=\"Times,serif\" font-size=\"14.00\">S2</text>\n",
       "</g>\n",
       "<!-- S1&#45;&gt;S2 -->\n",
       "<g id=\"edge4\" class=\"edge\">\n",
       "<title>S1&#45;&gt;S2</title>\n",
       "<path fill=\"none\" stroke=\"black\" d=\"M394.63,-92.45C402.41,-87.04 412.04,-81.41 421.7,-78.5 425.93,-77.22 430.43,-76.36 434.96,-75.8\"/>\n",
       "<polygon fill=\"black\" stroke=\"black\" points=\"434.93,-79.32 444.65,-75.1 434.42,-72.33 434.93,-79.32\"/>\n",
       "<text text-anchor=\"middle\" x=\"425.08\" y=\"-82.2\" font-family=\"Times,serif\" font-size=\"14.00\">a</text>\n",
       "</g>\n",
       "<!-- S1&#45;&gt;S4 -->\n",
       "<g id=\"edge5\" class=\"edge\">\n",
       "<title>S1&#45;&gt;S4</title>\n",
       "<path fill=\"none\" stroke=\"black\" d=\"M396.27,-118.6C410.94,-128.55 431.64,-142.6 448.33,-153.92\"/>\n",
       "<polygon fill=\"black\" stroke=\"black\" points=\"446.13,-156.66 456.37,-159.38 450.06,-150.87 446.13,-156.66\"/>\n",
       "<text text-anchor=\"middle\" x=\"425.08\" y=\"-142.2\" font-family=\"Times,serif\" font-size=\"14.00\">b</text>\n",
       "</g>\n",
       "<!-- S2&#45;&gt;S0 -->\n",
       "<g id=\"edge6\" class=\"edge\">\n",
       "<title>S2&#45;&gt;S0</title>\n",
       "<path fill=\"none\" stroke=\"black\" d=\"M446.24,-74.94C440.35,-74.58 434.21,-74.25 428.45,-74 338.95,-70.09 316.53,-70.11 226.95,-69 223.95,-68.96 223.19,-68.73 220.2,-69 217.69,-69.23 215.1,-69.52 212.51,-69.87\"/>\n",
       "<polygon fill=\"black\" stroke=\"black\" points=\"212.05,-66.4 202.72,-71.41 213.14,-73.32 212.05,-66.4\"/>\n",
       "<text text-anchor=\"middle\" x=\"328.33\" y=\"-74.2\" font-family=\"Times,serif\" font-size=\"14.00\">a</text>\n",
       "</g>\n",
       "<!-- S2&#45;&gt;S1 -->\n",
       "<g id=\"edge7\" class=\"edge\">\n",
       "<title>S2&#45;&gt;S1</title>\n",
       "<path fill=\"none\" stroke=\"black\" d=\"M450.02,-87.69C443.07,-90.29 435.54,-92.92 428.45,-95 423.88,-96.35 419.03,-97.6 414.21,-98.75\"/>\n",
       "<polygon fill=\"black\" stroke=\"black\" points=\"413.65,-95.29 404.66,-100.9 415.18,-102.12 413.65,-95.29\"/>\n",
       "<text text-anchor=\"middle\" x=\"425.08\" y=\"-100.2\" font-family=\"Times,serif\" font-size=\"14.00\">b</text>\n",
       "</g>\n",
       "<!-- S4&#45;&gt;S4 -->\n",
       "<g id=\"edge10\" class=\"edge\">\n",
       "<title>S4&#45;&gt;S4</title>\n",
       "<path fill=\"none\" stroke=\"black\" d=\"M472.71,-191.15C471.98,-200.54 473.56,-209 477.45,-209 479.58,-209 481.01,-206.47 481.76,-202.64\"/>\n",
       "<polygon fill=\"black\" stroke=\"black\" points=\"485.25,-202.79 482.13,-192.67 478.26,-202.53 485.25,-202.79\"/>\n",
       "<text text-anchor=\"middle\" x=\"477.45\" y=\"-212.2\" font-family=\"Times,serif\" font-size=\"14.00\">a</text>\n",
       "</g>\n",
       "<!-- S4&#45;&gt;S4 -->\n",
       "<g id=\"edge11\" class=\"edge\">\n",
       "<title>S4&#45;&gt;S4</title>\n",
       "<path fill=\"none\" stroke=\"black\" d=\"M469.65,-190.7C465.34,-208 467.94,-227 477.45,-227 484.96,-227 488.16,-215.17 487.06,-201.68\"/>\n",
       "<polygon fill=\"black\" stroke=\"black\" points=\"490.58,-201.49 485.5,-192.19 483.67,-202.63 490.58,-201.49\"/>\n",
       "<text text-anchor=\"middle\" x=\"477.45\" y=\"-230.2\" font-family=\"Times,serif\" font-size=\"14.00\">b</text>\n",
       "</g>\n",
       "<!-- S5&#45;&gt;S0 -->\n",
       "<g id=\"edge12\" class=\"edge\">\n",
       "<title>S5&#45;&gt;S0</title>\n",
       "<path fill=\"none\" stroke=\"black\" d=\"M255.25,-89.35C247.04,-83.45 237.07,-77.53 226.95,-74.5 222.43,-73.15 217.59,-72.47 212.76,-72.25\"/>\n",
       "<polygon fill=\"black\" stroke=\"black\" points=\"213.1,-68.74 203.16,-72.41 213.21,-75.74 213.1,-68.74\"/>\n",
       "<text text-anchor=\"middle\" x=\"223.58\" y=\"-78.2\" font-family=\"Times,serif\" font-size=\"14.00\">a</text>\n",
       "</g>\n",
       "<!-- S5&#45;&gt;S1 -->\n",
       "<g id=\"edge13\" class=\"edge\">\n",
       "<title>S5&#45;&gt;S1</title>\n",
       "<path fill=\"none\" stroke=\"black\" d=\"M307.38,-106C317,-106 327.74,-106 337.81,-106\"/>\n",
       "<polygon fill=\"black\" stroke=\"black\" points=\"337.69,-109.5 347.69,-106 337.69,-102.5 337.69,-109.5\"/>\n",
       "<text text-anchor=\"middle\" x=\"328.33\" y=\"-109.2\" font-family=\"Times,serif\" font-size=\"14.00\">b</text>\n",
       "</g>\n",
       "</g>\n",
       "</svg>\n"
      ],
      "text/plain": [
       "<graphviz.graphs.Digraph at 0x106822fd0>"
      ]
     },
     "execution_count": 12,
     "metadata": {},
     "output_type": "execute_result"
    }
   ],
   "source": [
    "d, S = dfa2dot(dfa) \n",
    "d"
   ]
  },
  {
   "cell_type": "markdown",
   "metadata": {},
   "source": [
    "Note that the resulting DFA is not minimal, since we can identify some states."
   ]
  },
  {
   "cell_type": "code",
   "execution_count": 13,
   "metadata": {},
   "outputs": [
    {
     "data": {
      "text/plain": [
       "{frozenset({2, 3}): 'S0',\n",
       " frozenset({6, 7}): 'S1',\n",
       " frozenset({1, 5, 8, 9, 10, 12}): 'S2',\n",
       " frozenset({1, 5, 9, 11, 12}): 'S3',\n",
       " frozenset(): 'S4',\n",
       " frozenset({1, 4, 5, 9, 10, 12}): 'S5'}"
      ]
     },
     "execution_count": 13,
     "metadata": {},
     "output_type": "execute_result"
    }
   ],
   "source": [
    "S"
   ]
  },
  {
   "cell_type": "code",
   "execution_count": null,
   "metadata": {},
   "outputs": [],
   "source": []
  }
 ],
 "metadata": {
  "kernelspec": {
   "display_name": "Python 3 (ipykernel)",
   "language": "python",
   "name": "python3"
  },
  "language_info": {
   "codemirror_mode": {
    "name": "ipython",
    "version": 3
   },
   "file_extension": ".py",
   "mimetype": "text/x-python",
   "name": "python",
   "nbconvert_exporter": "python",
   "pygments_lexer": "ipython3",
   "version": "3.13.7"
  },
  "varInspector": {
   "cols": {
    "lenName": 16,
    "lenType": 16,
    "lenVar": 40
   },
   "kernels_config": {
    "python": {
     "delete_cmd_postfix": "",
     "delete_cmd_prefix": "del ",
     "library": "var_list.py",
     "varRefreshCmd": "print(var_dic_list())"
    },
    "r": {
     "delete_cmd_postfix": ") ",
     "delete_cmd_prefix": "rm(",
     "library": "var_list.r",
     "varRefreshCmd": "cat(var_dic_list()) "
    }
   },
   "types_to_exclude": [
    "module",
    "function",
    "builtin_function_or_method",
    "instance",
    "_Feature"
   ],
   "window_display": false
  }
 },
 "nbformat": 4,
 "nbformat_minor": 4
}
