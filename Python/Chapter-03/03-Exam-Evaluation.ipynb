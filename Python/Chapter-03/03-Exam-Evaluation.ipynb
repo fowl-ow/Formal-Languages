{
 "cells": [
  {
   "cell_type": "code",
   "execution_count": 1,
   "metadata": {},
   "outputs": [
    {
     "data": {
      "text/html": [
       "<link href='http://fonts.googleapis.com/css?family=Alegreya+Sans:100,300,400,500,700,800,900,100italic,300italic,400italic,500italic,700italic,800italic,900italic' rel='stylesheet' type='text/css'>\n",
       "<link href='http://fonts.googleapis.com/css?family=Arvo:400,700,400italic' rel='stylesheet' type='text/css'>\n",
       "<link href='http://fonts.googleapis.com/css?family=PT+Mono' rel='stylesheet' type='text/css'>\n",
       "<link href='http://fonts.googleapis.com/css?family=Shadows+Into+Light' rel='stylesheet' type='text/css'>\n",
       "<link href='http://fonts.googleapis.com/css?family=Philosopher:400,700,400italic,700italic' rel='stylesheet' type='text/css'>\n",
       "<link href=\"http://fonts.googleapis.com/css?family=Sacramento\" rel=\"stylesheet\" type=\"text/css\">\n",
       "\n",
       "<style>\n",
       "\n",
       "@font-face {\n",
       "    font-family: \"Computer Modern\";\n",
       "    src: url('http://mirrors.ctan.org/fonts/cm-unicode/fonts/otf/cmunss.otf');\n",
       "}\n",
       "\n",
       ".container { width: 100% }\n",
       "\n",
       "/* Formatting for header cells */\n",
       ".text_cell_render h1 {\n",
       "    font-family: 'Philosopher', sans-serif;\n",
       "    font-weight: 400;\n",
       "    font-size: 2.2em;\n",
       "    line-height: 100%;\n",
       "    color: rgb(0, 80, 120);\n",
       "    margin-bottom: 0.1em;\n",
       "    margin-top: 0.1em;\n",
       "    display: block;\n",
       "}\t\n",
       ".text_cell_render h2 {\n",
       "    font-family: 'Philosopher', serif;\n",
       "    font-weight: 400;\n",
       "    font-size: 1.9em;\n",
       "    line-height: 100%;\n",
       "    color: rgb(200,100,0);\n",
       "    margin-bottom: 0.1em;\n",
       "    margin-top: 0.1em;\n",
       "    display: block;\n",
       "}\t\n",
       "\n",
       ".text_cell_render h3 {\n",
       "    font-family: 'Philosopher', serif;\n",
       "    margin-top:12px;\n",
       "    margin-bottom: 3px;\n",
       "    font-style: italic;\n",
       "    color: rgb(94,127,192);\n",
       "}\n",
       "\n",
       ".text_cell_render h4 {\n",
       "    font-family: 'Philosopher', serif;\n",
       "}\n",
       "\n",
       ".text_cell_render h5 {\n",
       "    font-family: 'Alegreya Sans', sans-serif;\n",
       "    font-weight: 300;\n",
       "    font-size: 16pt;\n",
       "    color: grey;\n",
       "    font-style: italic;\n",
       "    margin-bottom: .1em;\n",
       "    margin-top: 0.1em;\n",
       "    display: block;\n",
       "}\n",
       "\n",
       ".text_cell_render h6 {\n",
       "    font-family: 'PT Mono', sans-serif;\n",
       "    font-weight: 300;\n",
       "    font-size: 10pt;\n",
       "    color: grey;\n",
       "    margin-bottom: 1px;\n",
       "    margin-top: 1px;\n",
       "}\n",
       "\n",
       ".text_cell_render em {\n",
       "    font-family: 'Philosopher', sans-serif;\n",
       "    color:        blue;\n",
       "    background-color: rgb(255,220,180);\n",
       "    font-size:    110%;\n",
       "    margin-left:   2px;\n",
       "    margin-right:  2px;\n",
       "    font-weight:   100;\n",
       "}\n",
       "\n",
       ".text_cell_render b {\n",
       "    color:            rgb(255,195,195);\n",
       "    background-color: rgb(0,0,0);\n",
       "    font-size:    110%;\n",
       "    margin-left:   2px;\n",
       "    margin-right:  2px;\n",
       "    font-weight:   650;\n",
       "}\n",
       "\n",
       ".text_cell_render u {\n",
       "    color:            blue;\n",
       "    font-size:    110%;\n",
       "    margin-left:   2px;\n",
       "    margin-right:  2px;\n",
       "    font-weight:   650;\n",
       "}\n",
       "\n",
       ".text_cell_render tt {\n",
       "    font-size:    120%;\n",
       "    margin-left:   2px;\n",
       "    margin-right:  2px;\n",
       "    font-weight:   150;\n",
       "}\n",
       "\n",
       ".Codemirror {\n",
       "    font-family: \"PT Mono\";\n",
       "    font-size: 100%;\n",
       "}\n",
       "\n",
       "#fancy {\n",
       "    font-family:      Georgia;\n",
       "    position:         relative;\n",
       "    float:            left;\n",
       "    border:           2px solid red;\n",
       "    width:            600px;\n",
       "    padding-left:     20px;\n",
       "    padding-right:    20px;\n",
       "    padding-top:      10px;\n",
       "    font-family:      'Sacramento', cursive;\n",
       "    font-size:        26px;\n",
       "    background-color: #F4EBF3;\n",
       "    border-radius:    15px;\n",
       "}\n",
       "\n",
       "</Style>\n",
       "\n"
      ],
      "text/plain": [
       "<IPython.core.display.HTML object>"
      ]
     },
     "execution_count": 1,
     "metadata": {},
     "output_type": "execute_result"
    }
   ],
   "source": [
    "from IPython.display import HTML\n",
    "HTML(open('../style.css').read())"
   ]
  },
  {
   "cell_type": "markdown",
   "metadata": {},
   "source": [
    "# Evaluating an Exam Using Ply\n",
    "\n",
    "This notebook shows how we can use the package [`ply`](https://ply.readthedocs.io/en/latest/ply.html)\n",
    "to implement a scanner.  Our goal is to implement a program that can be used to evaluate the results of an exam.  Assume the result of an exam is stored in the string `data` that is defined below:"
   ]
  },
  {
   "cell_type": "code",
   "execution_count": 2,
   "metadata": {},
   "outputs": [],
   "source": [
    "data = '''Class: Algorithms and Complexity\n",
    "          Group: TINF22AI1\n",
    "          MaxPoints = 60\n",
    "   \n",
    "          Exercise:      1. 2. 3. 4. 5. 6.\n",
    "          Jim Smith:     9 12 10  6  6  0\n",
    "          John Slow:     4  4  2  0  -  -\n",
    "          Susi Sorglos:  9 12 12  9  9  6\n",
    "          1609922:       7  4 12  5  5  3\n",
    "       '''"
   ]
  },
  {
   "cell_type": "markdown",
   "metadata": {},
   "source": [
    "This data show that there has been a exam with the subject <em style=\"color:blue\">Algorithms and Complexity</em>\n",
    "in the group <em style=\"color:blue\">TIT22AI1</em>.  Furthermore, the equation\n",
    "```\n",
    "   MaxPoints = 60\n",
    "```\n",
    "shows that in order to achieve the best mark, <em style=\"color:blue\">60</em> points would have been necessary.\n",
    "    \n",
    "There have been 6 different exercises in this exam and, in this small example,  only four students took part, namely *Jim Smith*, *John Slow*, *Susi Sorglos*, and some student that is only represented by their matriculation number.  Each of the rows decribing the results of the students begins with the name (or matriculation number) of the student followed by the number of points that they have achieved in the different exercises. Our goal is to write a program that is able to compute the marks for all students."
   ]
  },
  {
   "cell_type": "markdown",
   "metadata": {},
   "source": [
    "## Imports\n",
    "\n",
    "We will use the package [ply](https://ply.readthedocs.io/en/latest/ply.html).\n",
    "In particular, we will use the scanner generator that is provided by the module `ply.lex`.  \n",
    "Furthermore, we will additionally use regular expressions to extract a number from a string.  \n",
    "Therefore, we also have to import the module `re`. "
   ]
  },
  {
   "cell_type": "code",
   "execution_count": 3,
   "metadata": {},
   "outputs": [],
   "source": [
    "import ply.lex as lex\n",
    "import re"
   ]
  },
  {
   "cell_type": "markdown",
   "metadata": {},
   "source": [
    "## Auxiliary Functions"
   ]
  },
  {
   "cell_type": "markdown",
   "metadata": {},
   "source": [
    "The function `mark(max_points, points)` takes two arguments:\n",
    "- `points`     is the number of points achieved by the student whose mark is to be computed.\n",
    "- `max_points` is the number of points that need to be achieved in order to get the best mark of $1.0$.\n",
    "  \n",
    "It is assumed that the relation between the mark of an exam and the number of points achieved in this exam is mostly linear and that a student who has achieved $50\\%$ of `max_points` points will get the mark $4.0$, while a student who has achieved  $100\\%$ of `max_points` points will get the mark $1.0$.  Therefore, the formula to calcuclate the grade is as follows:\n",
    "$$ \\textrm{grade} = 7 - 6 \\cdot \\frac{\\texttt{points}}{\\texttt{max_points}} $$\n",
    "However, the worst mark is $5.0$.  Therefore, if the mark would fall below that line, the `min` function assures that it is less or equal than $5.0$. Furthermore, the resulting number is rounded to one digit."
   ]
  },
  {
   "cell_type": "code",
   "execution_count": 4,
   "metadata": {},
   "outputs": [],
   "source": [
    "def mark(max_points, points):\n",
    "    grade = 7 - 6 * points / max_points\n",
    "    return round(min(5.0, grade), 1)"
   ]
  },
  {
   "cell_type": "markdown",
   "metadata": {},
   "source": [
    "Lets test this function by plotting it.  To do this we have to install `matplotlib`."
   ]
  },
  {
   "cell_type": "code",
   "execution_count": 5,
   "metadata": {},
   "outputs": [
    {
     "name": "stdout",
     "output_type": "stream",
     "text": [
      "Collecting matplotlib\n",
      "  Downloading matplotlib-3.10.6-cp313-cp313-macosx_11_0_arm64.whl.metadata (11 kB)\n",
      "Collecting contourpy>=1.0.1 (from matplotlib)\n",
      "  Downloading contourpy-1.3.3-cp313-cp313-macosx_11_0_arm64.whl.metadata (5.5 kB)\n",
      "Collecting cycler>=0.10 (from matplotlib)\n",
      "  Using cached cycler-0.12.1-py3-none-any.whl.metadata (3.8 kB)\n",
      "Collecting fonttools>=4.22.0 (from matplotlib)\n",
      "  Downloading fonttools-4.60.1-cp313-cp313-macosx_10_13_universal2.whl.metadata (112 kB)\n",
      "Collecting kiwisolver>=1.3.1 (from matplotlib)\n",
      "  Downloading kiwisolver-1.4.9-cp313-cp313-macosx_11_0_arm64.whl.metadata (6.3 kB)\n",
      "Collecting numpy>=1.23 (from matplotlib)\n",
      "  Downloading numpy-2.3.3-cp313-cp313-macosx_14_0_arm64.whl.metadata (62 kB)\n",
      "Requirement already satisfied: packaging>=20.0 in /Users/stroetmann/opt/anaconda3/envs/fl/lib/python3.13/site-packages (from matplotlib) (25.0)\n",
      "Collecting pillow>=8 (from matplotlib)\n",
      "  Downloading pillow-11.3.0-cp313-cp313-macosx_11_0_arm64.whl.metadata (9.0 kB)\n",
      "Collecting pyparsing>=2.3.1 (from matplotlib)\n",
      "  Downloading pyparsing-3.2.5-py3-none-any.whl.metadata (5.0 kB)\n",
      "Requirement already satisfied: python-dateutil>=2.7 in /Users/stroetmann/opt/anaconda3/envs/fl/lib/python3.13/site-packages (from matplotlib) (2.9.0.post0)\n",
      "Requirement already satisfied: six>=1.5 in /Users/stroetmann/opt/anaconda3/envs/fl/lib/python3.13/site-packages (from python-dateutil>=2.7->matplotlib) (1.17.0)\n",
      "Downloading matplotlib-3.10.6-cp313-cp313-macosx_11_0_arm64.whl (8.1 MB)\n",
      "\u001b[2K   \u001b[90m━━━━━━━━━━━━━━━━━━━━━━━━━━━━━━━━━━━━━━━━\u001b[0m \u001b[32m8.1/8.1 MB\u001b[0m \u001b[31m7.5 MB/s\u001b[0m  \u001b[33m0:00:01\u001b[0m eta \u001b[36m0:00:01\u001b[0mm\n",
      "\u001b[?25hDownloading contourpy-1.3.3-cp313-cp313-macosx_11_0_arm64.whl (274 kB)\n",
      "Using cached cycler-0.12.1-py3-none-any.whl (8.3 kB)\n",
      "Downloading fonttools-4.60.1-cp313-cp313-macosx_10_13_universal2.whl (2.8 MB)\n",
      "\u001b[2K   \u001b[90m━━━━━━━━━━━━━━━━━━━━━━━━━━━━━━━━━━━━━━━━\u001b[0m \u001b[32m2.8/2.8 MB\u001b[0m \u001b[31m14.7 MB/s\u001b[0m  \u001b[33m0:00:00\u001b[0m\n",
      "\u001b[?25hDownloading kiwisolver-1.4.9-cp313-cp313-macosx_11_0_arm64.whl (64 kB)\n",
      "Downloading numpy-2.3.3-cp313-cp313-macosx_14_0_arm64.whl (5.1 MB)\n",
      "\u001b[2K   \u001b[90m━━━━━━━━━━━━━━━━━━━━━━━━━━━━━━━━━━━━━━━━\u001b[0m \u001b[32m5.1/5.1 MB\u001b[0m \u001b[31m10.3 MB/s\u001b[0m  \u001b[33m0:00:00\u001b[0m eta \u001b[36m0:00:01\u001b[0m\n",
      "\u001b[?25hDownloading pillow-11.3.0-cp313-cp313-macosx_11_0_arm64.whl (4.7 MB)\n",
      "\u001b[2K   \u001b[90m━━━━━━━━━━━━━━━━━━━━━━━━━━━━━━━━━━━━━━━━\u001b[0m \u001b[32m4.7/4.7 MB\u001b[0m \u001b[31m10.8 MB/s\u001b[0m  \u001b[33m0:00:00\u001b[0m eta \u001b[36m0:00:01\u001b[0m\n",
      "\u001b[?25hDownloading pyparsing-3.2.5-py3-none-any.whl (113 kB)\n",
      "Installing collected packages: pyparsing, pillow, numpy, kiwisolver, fonttools, cycler, contourpy, matplotlib\n",
      "\u001b[2K   \u001b[90m━━━━━━━━━━━━━━━━━━━━━━━━━━━━━━━━━━━━━━━━\u001b[0m \u001b[32m8/8\u001b[0m [matplotlib]8\u001b[0m [matplotlib]\n",
      "\u001b[1A\u001b[2KSuccessfully installed contourpy-1.3.3 cycler-0.12.1 fonttools-4.60.1 kiwisolver-1.4.9 matplotlib-3.10.6 numpy-2.3.3 pillow-11.3.0 pyparsing-3.2.5\n"
     ]
    }
   ],
   "source": [
    "!pip install matplotlib"
   ]
  },
  {
   "cell_type": "code",
   "execution_count": 6,
   "metadata": {},
   "outputs": [],
   "source": [
    "import matplotlib.pyplot as plt"
   ]
  },
  {
   "cell_type": "code",
   "execution_count": 7,
   "metadata": {},
   "outputs": [
    {
     "data": {
      "image/png": "[encoded data removed]",
      "text/plain": [
       "<Figure size 900x600 with 1 Axes>"
      ]
     },
     "metadata": {},
     "output_type": "display_data"
    }
   ],
   "source": [
    "max_points = 60\n",
    "points = [points for points in range(max_points+1)]\n",
    "grades = [mark(max_points, points) for points in range(max_points+1)]\n",
    "\n",
    "plt.figure(figsize=(9, 6))\n",
    "plt.plot(points, grades, marker='o', linestyle='-')\n",
    "plt.title('Grade as a Function of Points (Max Points = 60)')\n",
    "plt.xlabel('Points')\n",
    "plt.ylabel('Grade')\n",
    "plt.grid(True)\n",
    "plt.show()"
   ]
  },
  {
   "cell_type": "markdown",
   "metadata": {},
   "source": [
    "## Token Declarations"
   ]
  },
  {
   "cell_type": "markdown",
   "metadata": {},
   "source": [
    "We begin by <em style=\"color:blue\">declaring</em> the list of tokens.  Note that the variable `tokens` is a keyword of `ply` to define the names of the token classes.  In this case, we have declared six different tokens.\n",
    "The <em style=\"color:blue\">definitions</em> of these tokens are given later.\n",
    "- `HEADER` will match the first two lines of the string `data` as well as the fifth line that begins with \n",
    "  the string `Exercise:`.  \n",
    "- `MAXDEF` matches the line containing the definition of `MaxPoints`.\n",
    "- `NAME` matches the name of a student.\n",
    "- `MATRICULATION` matches the matriculation number of a student. \n",
    "  This number is supposed to have exactly 7 digits.\n",
    "- `NUMBER` matches a natural number.\n",
    "  This is used for the points.\n",
    "- `IGNORE` is a token that will match an empty line.  For example, the fourth line in `data` is empty.\n",
    "- `LINEBREAK` is a token that will match the newline character `\\n` at the end of a line."
   ]
  },
  {
   "cell_type": "code",
   "execution_count": 9,
   "metadata": {},
   "outputs": [],
   "source": [
    "tokens = [ 'HEADER',        # r'[A-Za-z]+:.*\\n'\n",
    "           'MAXDEF',        # r'MaxPoints\\s*=\\s*[1-9][0-9]*'\n",
    "           'NAME',          # r'[A-Za-z -]+:'\n",
    "           'MATRICULATION'  # r'[0-9]{7}:'        \n",
    "           'NUMBER',        # r'0|[1-9][0-9]*'\n",
    "           'IGNORE',        # r'^[ \\t]*\\n'\n",
    "           'LINEBREAK'      # r'\\n'\n",
    "         ]"
   ]
  },
  {
   "cell_type": "code",
   "execution_count": 8,
   "metadata": {},
   "outputs": [
    {
     "name": "stdout",
     "output_type": "stream",
     "text": [
      "Class: Algorithms and Complexity\n",
      "          Group: TINF22AI1\n",
      "          MaxPoints = 60\n",
      "\n",
      "          Exercise:      1. 2. 3. 4. 5. 6.\n",
      "          Jim Smith:     9 12 10  6  6  0\n",
      "          John Slow:     4  4  2  0  -  -\n",
      "          Susi Sorglos:  9 12 12  9  9  6\n",
      "          1609922:       7  4 12  5  5  3\n",
      "       \n"
     ]
    }
   ],
   "source": [
    "print(data)"
   ]
  },
  {
   "cell_type": "markdown",
   "metadata": {},
   "source": [
    "## Token Definitions\n",
    "\n",
    "Next, we need to provide the definition of the tokens.  One way to define tokens is via python functions.  \n",
    "In this notebook we are only going to use these <em style=\"color:blue\">functional token definitions</em>.\n",
    "The <em style=\"color:blue\">document string</em> of these functions is a <em style=\"color:blue\">raw string</em> that contains the regular expression defining the semantics of the token.  The regular expression can be followed by code that is needed to further process the token.  The name of the function defining a token has to have the form `t_`**name**, where **name** is the name of the token as declared in the list `tokens`."
   ]
  },
  {
   "cell_type": "markdown",
   "metadata": {},
   "source": [
    "### The `HEADER` Token\n",
    "\n",
    "The token `HEADER` matches any string that is made up of upper and lower case characters followed by a colon.  This colon may be followed by arbitrary characters.\n",
    "The token extends to the end of the line and includes the terminating newline.\n",
    "\n",
    "When the function `t_HEADER` is called it is provided with a token `t`.  This is an object that has four\n",
    "attributes:\n",
    "- `t.lexer` is an object of class `Lexer` that contains the scanner that was used to extract the token `t`.\n",
    "  We are free to attach additional attributes to this `Lexer` object.\n",
    "- `t.type` is  a string containing the type of the token.  For tokens processed in the function\n",
    "  `t_HEADER` this type is always the string `HEADER`.\n",
    "- `t.value` is the actual string matched by the token.\n",
    "- `t.lexpos` is the position of the token in the input string that is scanned.\n",
    "\n",
    "Furthermore, the lexer object has one important attribute:\n",
    "- `t.lexer.lineno` is the line number.  However, it is our responsibility to update this variable\n",
    "  by incrementing `t.lexer.lineno` every time we read a newline.\n",
    "\n",
    "In the case of the token `HEADER` we need to increment the attribute `t.lineno`, as the regular expression contains a newline."
   ]
  },
  {
   "cell_type": "code",
   "execution_count": 10,
   "metadata": {},
   "outputs": [],
   "source": [
    "def t_HEADER(t):\n",
    "    r'[A-Za-z]+:.*\\n'\n",
    "    t.lexer.lineno += 1"
   ]
  },
  {
   "cell_type": "markdown",
   "metadata": {},
   "source": [
    "### The Token `MAXDEF`\n",
    "\n",
    "The token `MAXDEF` matches a substring of the form `MaxPoints = 60`.  Note that the regular expression defining the semantics of this token uses the expression `\\s*` to match the white space before and after the character `=`.  We cannot just write a blank here because `ply.lex` uses <em style=\"color:blue\">verbose regular expressions</em> that may contain whitespace for formatting.  Hence a blank character \"` `\" inside a regular expression is silently discarded.\n",
    " \n",
    "After defining the regular expression, the function `t_MAXDEF` has some <em style=\"color:blue\">action code</em> that is used to extract the maximal number of points from the token value and store this number in the variable `t.lexer.max_points`.\n",
    "`t.value` is the string that is matched by the regular expression.\n",
    "We extract the maximum number of points using conventional Python regular expressions.  Furthermore, we initialize the student name, \n",
    "which is stored in `t.lexer.name`,  to the empty string."
   ]
  },
  {
   "cell_type": "code",
   "execution_count": 11,
   "metadata": {},
   "outputs": [],
   "source": [
    "def t_MAXDEF(t):\n",
    "    r'MaxPoints\\s*=\\s*[1-9][0-9]*'\n",
    "    t.lexer.max_points = int(re.findall(r'[1-9][0-9]*', t.value)[0])\n",
    "    t.lexer.name       = ''"
   ]
  },
  {
   "cell_type": "markdown",
   "metadata": {},
   "source": [
    "### The Token Name\n",
    "\n",
    "The token `NAME` matches the *name* of a student, which is followed by a colon character `:`.  In general, a student name can be any sequence of letters that contains optional hyphens and blanks.  Note that it is not necessary to use `\\s` inside a character range, as we can use a blank character instead.\n",
    "Furthermore, note that the hypen `-` is the last character in the square brackets so it cannot be mistaken for the hyphen of a range.\n",
    "\n",
    "Note that every name has to contain at least one space so that the definition of `NAME` and `HEADER` do not overlap.\n",
    "\n",
    "The action code has to reset the variable `sum_points` that is stored in `lexer.sum_points`to `0`."
   ]
  },
  {
   "cell_type": "code",
   "execution_count": 12,
   "metadata": {},
   "outputs": [],
   "source": [
    "def t_NAME(t):\n",
    "    r'[A-Za-z -]+:'\n",
    "    t.lexer.name = t.value[:-1] # cut of and discard the colon\n",
    "    t.lexer.sum_points = 0      # start counting"
   ]
  },
  {
   "cell_type": "markdown",
   "metadata": {},
   "source": [
    "### The Token `MATRICULATION`\n",
    "\n",
    "The token `MATRICULATION` matches a string consisting of seven digits.  These digits are followed by a colon.\n",
    "Again we have to reset the variable `sum_points`."
   ]
  },
  {
   "cell_type": "code",
   "execution_count": 13,
   "metadata": {},
   "outputs": [],
   "source": [
    "def t_MATRICULATION(t):\n",
    "    r'[0-9]{7}:'\n",
    "    t.lexer.name = t.value[:-1] # cut of colon\n",
    "    t.lexer.sum_points = 0      # start counting"
   ]
  },
  {
   "cell_type": "markdown",
   "metadata": {},
   "source": [
    "### The Token `NUMBER`\n",
    "\n",
    "The token `NUMBER` matches a natural number.  We have to convert the value, which is initially a *string* of digits, into an integer.  Furthermore, this value is then added to the number of points the current student has achieved in previous exercises."
   ]
  },
  {
   "cell_type": "code",
   "execution_count": 14,
   "metadata": {},
   "outputs": [],
   "source": [
    "def t_NUMBER(t):\n",
    "    r'0|[1-9][0-9]*'\n",
    "    t.lexer.sum_points += int(t.value)"
   ]
  },
  {
   "cell_type": "markdown",
   "metadata": {},
   "source": [
    "### The Token `IGNORE`\n",
    "\n",
    "The token `IGNORE` matches a line that contains only whitespace.  In order to keep track of line numbers we have to increment `lexer.lineno`.  However, we do not return a token at the end of the function.  Hence, if the input contains an empty line, this line is silently discarded."
   ]
  },
  {
   "cell_type": "code",
   "execution_count": 15,
   "metadata": {},
   "outputs": [],
   "source": [
    "def t_IGNORE(t):\n",
    "    r'^[ \\t]*\\n'\n",
    "    t.lexer.lineno += 1"
   ]
  },
  {
   "cell_type": "markdown",
   "metadata": {},
   "source": [
    "### The Token `LINEBREAK`\n",
    "\n",
    "The token `LINEBREAK` matches a single newline character `\\n`.  If a student name is\n",
    "currently defined, then we output the result for this student.  Note that we set `lexer.name` back to the empty string once we have processed the student.\n",
    "This allows for empty lines between different students."
   ]
  },
  {
   "cell_type": "code",
   "execution_count": 16,
   "metadata": {},
   "outputs": [],
   "source": [
    "def t_LINEBREAK(t):\n",
    "    r'\\n'\n",
    "    t.lexer.lineno += 1\n",
    "    if t.lexer.name != '':\n",
    "        n = t.lexer.name\n",
    "        m = t.lexer.max_points\n",
    "        p = t.lexer.sum_points\n",
    "        print(f'{n} has {p} points and achieved the mark {mark(m, p)}.')\n",
    "        t.lexer.name = ''"
   ]
  },
  {
   "cell_type": "markdown",
   "metadata": {},
   "source": [
    "### Ignoring Characters\n",
    "\n",
    "The string `t_ignore` specifies those characters that should be ignored.  Note that this string is **not** interpreted as a regular expression.  It is just a string of *single characters*.  These characters are allowed to occur as part of other tokens, but when they occur on their own and would otherwise generate a scanning error, they are silently discarded instead of triggering an error. \n",
    "\n",
    "In this example we ignore hyphens `-`, blanks ` `, and tab characters. Hyphens occur when a student has not attempted a given exercise."
   ]
  },
  {
   "cell_type": "code",
   "execution_count": 17,
   "metadata": {},
   "outputs": [],
   "source": [
    "t_ignore  = '- \\t'"
   ]
  },
  {
   "cell_type": "markdown",
   "metadata": {},
   "source": [
    "### Error Handling\n",
    "\n",
    "The function `t_error` is called when a string at the beginning of the input that\n",
    "has not yet been processed can not be matched by any of the regular expressions defined in the various tokens defined above.  In our implementation we print the first character that could not be matched, discard this character and continue."
   ]
  },
  {
   "cell_type": "code",
   "execution_count": 18,
   "metadata": {},
   "outputs": [],
   "source": [
    "def t_error(t):\n",
    "    print(f\"Illegal character '{t.value[0]}' at line {t.lexer.lineno}.\")\n",
    "    t.lexer.skip(1)"
   ]
  },
  {
   "cell_type": "markdown",
   "metadata": {},
   "source": [
    "### Tricking Ply\n",
    "\n",
    "The line below is necessary to trick `ply.lex` into assuming this program is part of an ordinary python file instead of being a *Jupyter notebook*."
   ]
  },
  {
   "cell_type": "code",
   "execution_count": 19,
   "metadata": {},
   "outputs": [],
   "source": [
    "__file__ = 'main'"
   ]
  },
  {
   "cell_type": "markdown",
   "metadata": {},
   "source": [
    "### Generating the Scanner and Running It\n",
    "\n",
    "The next line generates the scanner."
   ]
  },
  {
   "cell_type": "code",
   "execution_count": 20,
   "metadata": {},
   "outputs": [
    {
     "name": "stderr",
     "output_type": "stream",
     "text": [
      "lex: tokens   = ['HEADER', 'MAXDEF', 'NAME', 'MATRICULATIONNUMBER', 'IGNORE', 'LINEBREAK']\n",
      "lex: literals = ''\n",
      "lex: states   = {'INITIAL': 'inclusive'}\n",
      "lex: Adding rule t_HEADER -> '[A-Za-z]+:.*\\n' (state 'INITIAL')\n",
      "lex: Adding rule t_MAXDEF -> 'MaxPoints\\s*=\\s*[1-9][0-9]*' (state 'INITIAL')\n",
      "lex: Adding rule t_NAME -> '[A-Za-z -]+:' (state 'INITIAL')\n",
      "lex: Adding rule t_MATRICULATION -> '[0-9]{7}:' (state 'INITIAL')\n",
      "lex: Adding rule t_NUMBER -> '0|[1-9][0-9]*' (state 'INITIAL')\n",
      "lex: Adding rule t_IGNORE -> '^[ \\t]*\\n' (state 'INITIAL')\n",
      "lex: Adding rule t_LINEBREAK -> '\\n' (state 'INITIAL')\n",
      "lex: ==== MASTER REGEXS FOLLOW ====\n",
      "lex: state 'INITIAL' : regex[0] = '(?P<t_HEADER>[A-Za-z]+:.*\\n)|(?P<t_MAXDEF>MaxPoints\\s*=\\s*[1-9][0-9]*)|(?P<t_NAME>[A-Za-z -]+:)|(?P<t_MATRICULATION>[0-9]{7}:)|(?P<t_NUMBER>0|[1-9][0-9]*)|(?P<t_IGNORE>^[ \\t]*\\n)|(?P<t_LINEBREAK>\\n)'\n"
     ]
    }
   ],
   "source": [
    "lexer = lex.lex(debug=True)"
   ]
  },
  {
   "cell_type": "markdown",
   "metadata": {},
   "source": [
    "Next, we feed an input string into the generated scanner."
   ]
  },
  {
   "cell_type": "code",
   "execution_count": 21,
   "metadata": {},
   "outputs": [],
   "source": [
    "lexer.input(data)"
   ]
  },
  {
   "cell_type": "markdown",
   "metadata": {},
   "source": [
    "In order to scan the data that we provided in the last line, the function `scan` iterates\n",
    "over all tokens generated by our scanner."
   ]
  },
  {
   "cell_type": "code",
   "execution_count": 22,
   "metadata": {},
   "outputs": [],
   "source": [
    "def scan(lexer):\n",
    "    for t in lexer:\n",
    "        pass"
   ]
  },
  {
   "cell_type": "markdown",
   "metadata": {},
   "source": [
    "Finally, we can run the scanner."
   ]
  },
  {
   "cell_type": "code",
   "execution_count": 23,
   "metadata": {},
   "outputs": [
    {
     "name": "stdout",
     "output_type": "stream",
     "text": [
      "Jim Smith has 43 points and achieved the mark 2.7.\n",
      "John Slow has 10 points and achieved the mark 5.0.\n",
      "Susi Sorglos has 57 points and achieved the mark 1.3.\n",
      "1609922 has 36 points and achieved the mark 3.4.\n"
     ]
    }
   ],
   "source": [
    "scan(lexer)"
   ]
  },
  {
   "cell_type": "code",
   "execution_count": null,
   "metadata": {},
   "outputs": [],
   "source": []
  }
 ],
 "metadata": {
  "kernelspec": {
   "display_name": "Python 3 (ipykernel)",
   "language": "python",
   "name": "python3"
  },
  "language_info": {
   "codemirror_mode": {
    "name": "ipython",
    "version": 3
   },
   "file_extension": ".py",
   "mimetype": "text/x-python",
   "name": "python",
   "nbconvert_exporter": "python",
   "pygments_lexer": "ipython3",
   "version": "3.13.7"
  },
  "varInspector": {
   "cols": {
    "lenName": 16,
    "lenType": 16,
    "lenVar": 40
   },
   "kernels_config": {
    "python": {
     "delete_cmd_postfix": "",
     "delete_cmd_prefix": "del ",
     "library": "var_list.py",
     "varRefreshCmd": "print(var_dic_list())"
    },
    "r": {
     "delete_cmd_postfix": ") ",
     "delete_cmd_prefix": "rm(",
     "library": "var_list.r",
     "varRefreshCmd": "cat(var_dic_list()) "
    }
   },
   "types_to_exclude": [
    "module",
    "function",
    "builtin_function_or_method",
    "instance",
    "_Feature"
   ],
   "window_display": false
  }
 },
 "nbformat": 4,
 "nbformat_minor": 4
}
